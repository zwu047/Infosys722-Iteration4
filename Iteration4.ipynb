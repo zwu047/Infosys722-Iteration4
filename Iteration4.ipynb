{
 "cells": [
  {
   "cell_type": "code",
   "execution_count": 1,
   "metadata": {},
   "outputs": [],
   "source": [
    "import findspark\n",
    "findspark.init('/home/ubuntu/spark-2.1.1-bin-hadoop2.7')\n",
    "import pyspark\n",
    "from pyspark.sql import SparkSession\n",
    "spark = SparkSession.builder.appName('Iteration4').getOrCreate()"
   ]
  },
  {
   "cell_type": "code",
   "execution_count": 2,
   "metadata": {},
   "outputs": [],
   "source": [
    "# Reading the datasets\n",
    "dataset_one = spark.read.csv('./student-math-dataset1.csv', header=True, inferSchema=True)\n",
    "dataset_two = spark.read.csv('./student-math-dataset2.csv', header=True, inferSchema=True)"
   ]
  },
  {
   "cell_type": "code",
   "execution_count": 3,
   "metadata": {},
   "outputs": [
    {
     "output_type": "stream",
     "name": "stdout",
     "text": [
      "Dataset one structure: 395 rows, and 31 columns\n",
      "Dataset two structure: 395 rows, and 4 columns\n",
      "How many students inside the dataset: 395\n"
     ]
    }
   ],
   "source": [
    "# 2.2 Describe the data\n",
    "print(\"Dataset one structure: \" + str(dataset_one.count()) + \" rows, and \" + str(len(dataset_one.columns)) + \" columns\")\n",
    "print(\"Dataset two structure: \" + str(dataset_two.count()) + \" rows, and \" + str(len(dataset_two.columns)) + \" columns\")\n",
    "print(\"How many students inside the dataset: \" + str(dataset_one.count()))"
   ]
  },
  {
   "cell_type": "code",
   "execution_count": 4,
   "metadata": {},
   "outputs": [
    {
     "output_type": "stream",
     "name": "stdout",
     "text": [
      "Data type inside the dataset one\n"
     ]
    },
    {
     "output_type": "execute_result",
     "data": {
      "text/plain": [
       "[('id', 'int'),\n",
       " ('school', 'string'),\n",
       " ('sex', 'string'),\n",
       " ('age', 'int'),\n",
       " ('address', 'string'),\n",
       " ('famsize', 'string'),\n",
       " ('Pstatus', 'string'),\n",
       " ('Medu', 'int'),\n",
       " ('Fedu', 'int'),\n",
       " ('Mjob', 'string'),\n",
       " ('Fjob', 'string'),\n",
       " ('reason', 'string'),\n",
       " ('guardian', 'string'),\n",
       " ('traveltime', 'int'),\n",
       " ('studytime', 'int'),\n",
       " ('failures', 'int'),\n",
       " ('schoolsup', 'string'),\n",
       " ('famsup', 'string'),\n",
       " ('paid', 'string'),\n",
       " ('activities', 'string'),\n",
       " ('nursery', 'string'),\n",
       " ('higher', 'string'),\n",
       " ('internet', 'string'),\n",
       " ('romantic', 'string'),\n",
       " ('famrel', 'int'),\n",
       " ('freetime', 'double'),\n",
       " ('goout', 'int'),\n",
       " ('Dalc', 'double'),\n",
       " ('Walc', 'double'),\n",
       " ('health', 'double'),\n",
       " ('absences', 'int')]"
      ]
     },
     "metadata": {},
     "execution_count": 4
    }
   ],
   "source": [
    "print(\"Data type inside the dataset one\")\n",
    "dataset_one.dtypes"
   ]
  },
  {
   "cell_type": "code",
   "execution_count": 5,
   "metadata": {},
   "outputs": [
    {
     "output_type": "stream",
     "name": "stdout",
     "text": [
      "Data type inside the dataset two\n"
     ]
    },
    {
     "output_type": "execute_result",
     "data": {
      "text/plain": [
       "[('id', 'int'), ('G1', 'int'), ('G2', 'int'), ('G3', 'int')]"
      ]
     },
     "metadata": {},
     "execution_count": 5
    }
   ],
   "source": [
    "print(\"Data type inside the dataset two\")\n",
    "dataset_two.dtypes"
   ]
  },
  {
   "cell_type": "code",
   "execution_count": 6,
   "metadata": {},
   "outputs": [
    {
     "output_type": "stream",
     "name": "stdout",
     "text": [
      "Dataset one information: \n",
      "+-------+------------------+------+----+------------------+-------+-------+-------+------------------+------------------+-------+-------+----------+--------+------------------+------------------+------------------+---------+------+----+----------+-------+------+--------+--------+------------------+------------------+------------------+------------------+------------------+------------------+-----------------+\n",
      "|summary|                id|school| sex|               age|address|famsize|Pstatus|              Medu|              Fedu|   Mjob|   Fjob|    reason|guardian|        traveltime|         studytime|          failures|schoolsup|famsup|paid|activities|nursery|higher|internet|romantic|            famrel|          freetime|             goout|              Dalc|              Walc|            health|         absences|\n",
      "+-------+------------------+------+----+------------------+-------+-------+-------+------------------+------------------+-------+-------+----------+--------+------------------+------------------+------------------+---------+------+----+----------+-------+------+--------+--------+------------------+------------------+------------------+------------------+------------------+------------------+-----------------+\n",
      "|  count|               395|   395| 395|               395|    395|    395|    395|               395|               395|    395|    395|       395|     395|               395|               395|               395|      395|   395| 395|       395|    395|   395|     395|     395|               395|               393|               395|               392|               393|               393|              395|\n",
      "|   mean|             198.0|  null|null|16.696202531645568|   null|   null|   null| 2.749367088607595|2.5215189873417723|   null|   null|      null|    null|1.4481012658227848|2.0354430379746837|0.3341772151898734|     null|  null|null|      null|   null|  null|    null|    null|3.9443037974683546| 3.236641221374046| 3.108860759493671|1.4744897959183674| 2.287531806615776| 3.549618320610687|5.708860759493671|\n",
      "| stddev|114.17092449481173|  null|null|1.2760427246056265|   null|   null|   null|1.0947351414285371|1.0882005458269433|   null|   null|      null|    null|0.6975047549086822|0.8392403464185556|0.7436509736062509|     null|  null|null|      null|   null|  null|    null|    null|0.8966586076885046|0.9987139260837443|1.1132781740183422|0.8755632428459843|1.2882008750662577|1.3917417170619113|8.003095687108182|\n",
      "|    min|                 1|    GP|   F|                15|      R|    GT3|      A|                 0|                 0|at_home|at_home|    course|  father|                 1|                 1|                 0|       no|    no|  no|        no|     no|    no|      no|      no|                 1|               1.0|                 1|               1.0|               1.0|               1.0|                0|\n",
      "|    max|               395|    MS|   M|                22|      U|    LE3|      T|                 4|                 4|teacher|teacher|reputation|   other|                 4|                 4|                 3|      yes|   yes| yes|       yes|    yes|   yes|     yes|     yes|                 5|               5.0|                 5|               5.0|               5.0|               5.0|               75|\n",
      "+-------+------------------+------+----+------------------+-------+-------+-------+------------------+------------------+-------+-------+----------+--------+------------------+------------------+------------------+---------+------+----+----------+-------+------+--------+--------+------------------+------------------+------------------+------------------+------------------+------------------+-----------------+\n",
      "\n"
     ]
    }
   ],
   "source": [
    "# 2.3 Explore the data\n",
    "# need to see the difference between .show() vs .describe().shows()\n",
    "print(\"Dataset one information: \")\n",
    "dataset_one.describe().show()"
   ]
  },
  {
   "cell_type": "code",
   "execution_count": 7,
   "metadata": {},
   "outputs": [
    {
     "output_type": "stream",
     "name": "stdout",
     "text": [
      "+-------+------------------+------------------+------------------+------------------+\n|summary|                id|                G1|                G2|                G3|\n+-------+------------------+------------------+------------------+------------------+\n|  count|               395|               395|               395|               395|\n|   mean|             198.0| 10.90886075949367|10.713924050632912|10.415189873417722|\n| stddev|114.17092449481173|3.3191946715076686|3.7615046595560306|4.5814426109978434|\n|    min|                 1|                 3|                 0|                 0|\n|    max|               395|                19|                19|                20|\n+-------+------------------+------------------+------------------+------------------+\n\n"
     ]
    }
   ],
   "source": [
    "dataset_two.describe().show()"
   ]
  },
  {
   "cell_type": "code",
   "execution_count": 8,
   "metadata": {},
   "outputs": [],
   "source": [
    "# same as above\n",
    "# dataset_one.select(dataset_one.columns).describe().show()\n",
    "# dataset_two.select('G1', 'G2', 'G3').describe().show()"
   ]
  },
  {
   "cell_type": "code",
   "execution_count": 9,
   "metadata": {},
   "outputs": [
    {
     "name": "stdout",
     "output_type": "stream",
     "text": [
      "+---+\n",
      "| G1|\n",
      "+---+\n",
      "|  5|\n",
      "|  5|\n",
      "|  7|\n",
      "| 15|\n",
      "|  6|\n",
      "| 15|\n",
      "| 12|\n",
      "|  6|\n",
      "| 16|\n",
      "| 14|\n",
      "| 10|\n",
      "| 10|\n",
      "| 14|\n",
      "| 10|\n",
      "| 14|\n",
      "| 14|\n",
      "| 13|\n",
      "|  8|\n",
      "|  6|\n",
      "|  8|\n",
      "+---+\n",
      "only showing top 20 rows\n",
      "\n"
     ]
    },
    {
     "ename": "TypeError",
     "evalue": "'DataFrame' object is not callable",
     "output_type": "error",
     "traceback": [
      "\u001b[0;31m---------------------------------------------------------------------------\u001b[0m",
      "\u001b[0;31mTypeError\u001b[0m                                 Traceback (most recent call last)",
      "\u001b[0;32m<ipython-input-9-78cc6316e62a>\u001b[0m in \u001b[0;36m<module>\u001b[0;34m()\u001b[0m\n\u001b[1;32m      1\u001b[0m \u001b[0;31m# start ploting\u001b[0m\u001b[0;34m\u001b[0m\u001b[0;34m\u001b[0m\u001b[0m\n\u001b[1;32m      2\u001b[0m \u001b[0;34m\u001b[0m\u001b[0m\n\u001b[0;32m----> 3\u001b[0;31m \u001b[0mdisplay\u001b[0m\u001b[0;34m(\u001b[0m\u001b[0mdataset_one\u001b[0m\u001b[0;34m(\u001b[0m\u001b[0mdataset_two\u001b[0m\u001b[0;34m.\u001b[0m\u001b[0mselect\u001b[0m\u001b[0;34m(\u001b[0m\u001b[0;34m'G1'\u001b[0m\u001b[0;34m)\u001b[0m\u001b[0;34m.\u001b[0m\u001b[0mshow\u001b[0m\u001b[0;34m(\u001b[0m\u001b[0;34m)\u001b[0m\u001b[0;34m)\u001b[0m\u001b[0;34m)\u001b[0m\u001b[0;34m\u001b[0m\u001b[0m\n\u001b[0m",
      "\u001b[0;31mTypeError\u001b[0m: 'DataFrame' object is not callable"
     ]
    }
   ],
   "source": [
    "# start ploting\n",
    "d\n"
   ]
  },
  {
   "cell_type": "code",
   "execution_count": 10,
   "metadata": {},
   "outputs": [],
   "source": [
    "dataset_three = dataset_one.join(dataset_two, on=['id'])"
   ]
  },
  {
   "cell_type": "code",
   "execution_count": 14,
   "metadata": {},
   "outputs": [
    {
     "output_type": "execute_result",
     "data": {
      "text/plain": [
       "395"
      ]
     },
     "metadata": {},
     "execution_count": 14
    }
   ],
   "source": [
    "dataset_three.count()"
   ]
  },
  {
   "cell_type": "code",
   "execution_count": 22,
   "metadata": {},
   "outputs": [
    {
     "output_type": "stream",
     "name": "stdout",
     "text": [
      "from: can't read /var/mail/pyspark.ml.stat\n"
     ]
    },
    {
     "output_type": "error",
     "ename": "NameError",
     "evalue": "name 'Correlation' is not defined",
     "traceback": [
      "\u001b[0;31m---------------------------------------------------------------------------\u001b[0m",
      "\u001b[0;31mNameError\u001b[0m                                 Traceback (most recent call last)",
      "\u001b[0;32m<ipython-input-22-0b9c109cca3e>\u001b[0m in \u001b[0;36m<module>\u001b[0;34m()\u001b[0m\n\u001b[1;32m      1\u001b[0m \u001b[0mget_ipython\u001b[0m\u001b[0;34m(\u001b[0m\u001b[0;34m)\u001b[0m\u001b[0;34m.\u001b[0m\u001b[0msystem\u001b[0m\u001b[0;34m(\u001b[0m\u001b[0;34m'from pyspark.ml.stat import Correlation'\u001b[0m\u001b[0;34m)\u001b[0m\u001b[0;34m\u001b[0m\u001b[0m\n\u001b[0;32m----> 2\u001b[0;31m \u001b[0mCorrelation\u001b[0m\u001b[0;34m.\u001b[0m\u001b[0mcorr\u001b[0m\u001b[0;34m(\u001b[0m\u001b[0mdataset_three\u001b[0m\u001b[0;34m,\u001b[0m \u001b[0;34m'G3'\u001b[0m\u001b[0;34m)\u001b[0m\u001b[0;34m\u001b[0m\u001b[0m\n\u001b[0m",
      "\u001b[0;31mNameError\u001b[0m: name 'Correlation' is not defined"
     ]
    }
   ],
   "source": [
    "from pyspark.ml.stat import Correlation\n",
    "Correlation.corr(dataset_three, 'G3')"
   ]
  },
  {
   "cell_type": "code",
   "execution_count": null,
   "metadata": {},
   "outputs": [],
   "source": []
  },
  {
   "cell_type": "code",
   "execution_count": null,
   "metadata": {},
   "outputs": [],
   "source": []
  },
  {
   "cell_type": "code",
   "execution_count": null,
   "metadata": {},
   "outputs": [],
   "source": []
  },
  {
   "cell_type": "code",
   "execution_count": null,
   "metadata": {},
   "outputs": [],
   "source": []
  },
  {
   "cell_type": "code",
   "execution_count": null,
   "metadata": {},
   "outputs": [],
   "source": []
  },
  {
   "cell_type": "code",
   "execution_count": null,
   "metadata": {},
   "outputs": [],
   "source": []
  },
  {
   "cell_type": "code",
   "execution_count": null,
   "metadata": {},
   "outputs": [],
   "source": []
  },
  {
   "cell_type": "code",
   "execution_count": null,
   "metadata": {},
   "outputs": [],
   "source": [
    "# use it to check null vlaue\n",
    "dataset_one.printSchema()\n",
    "dataset_two.printSchema()"
   ]
  },
  {
   "cell_type": "code",
   "execution_count": null,
   "metadata": {},
   "outputs": [],
   "source": []
  },
  {
   "cell_type": "code",
   "execution_count": null,
   "metadata": {},
   "outputs": [],
   "source": []
  },
  {
   "cell_type": "code",
   "execution_count": null,
   "metadata": {},
   "outputs": [],
   "source": []
  },
  {
   "cell_type": "code",
   "execution_count": null,
   "metadata": {},
   "outputs": [],
   "source": []
  }
 ],
 "metadata": {
  "kernelspec": {
   "display_name": "Python 3",
   "language": "python",
   "name": "python3"
  },
  "language_info": {
   "codemirror_mode": {
    "name": "ipython",
    "version": 3
   },
   "file_extension": ".py",
   "mimetype": "text/x-python",
   "name": "python",
   "nbconvert_exporter": "python",
   "pygments_lexer": "ipython3",
   "version": "3.5.2"
  }
 },
 "nbformat": 4,
 "nbformat_minor": 2
}