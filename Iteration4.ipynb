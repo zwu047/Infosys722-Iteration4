{
 "cells": [
  {
   "cell_type": "code",
   "execution_count": 1,
   "metadata": {},
   "outputs": [],
   "source": [
    "import findspark\n",
    "# need to use the correct spark version\n",
    "# findspark.init('/home/ubuntu/spark-2.1.1-bin-hadoop2.7')\n",
    "findspark.init('/home/ubuntu/spark-3.1.1-bin-hadoop3.2')\n",
    "import pyspark\n",
    "from pyspark.sql import SparkSession\n",
    "spark = SparkSession.builder.appName('Iteration4').getOrCreate()"
   ]
  },
  {
   "cell_type": "code",
   "execution_count": 2,
   "metadata": {},
   "outputs": [],
   "source": [
    "import matplotlib.pyplot as plt\n",
    "from pyspark.ml.stat import Correlation\n",
    "import pandas as pd\n",
    "import seaborn as sns\n",
    "import numpy as np\n",
    "from scipy import stats"
   ]
  },
  {
   "cell_type": "code",
   "execution_count": 3,
   "metadata": {},
   "outputs": [],
   "source": [
    "# Reading the datasets\n",
    "dataset_one = spark.read.csv('./student-math-dataset1.csv', header=True, inferSchema=True)\n",
    "dataset_two = spark.read.csv('./student-math-dataset2.csv', header=True, inferSchema=True)"
   ]
  },
  {
   "cell_type": "code",
   "execution_count": 4,
   "metadata": {},
   "outputs": [
    {
     "name": "stdout",
     "output_type": "stream",
     "text": [
      "Dataset one structure: 395 rows, and 31 columns\n",
      "Dataset two structure: 395 rows, and 4 columns\n",
      "How many students inside the dataset: 395\n"
     ]
    }
   ],
   "source": [
    "# 2.2 Describe the data\n",
    "print(\"Dataset one structure: \" + str(dataset_one.count()) + \" rows, and \" + str(len(dataset_one.columns)) + \" columns\")\n",
    "print(\"Dataset two structure: \" + str(dataset_two.count()) + \" rows, and \" + str(len(dataset_two.columns)) + \" columns\")\n",
    "print(\"How many students inside the dataset: \" + str(dataset_one.count()))"
   ]
  },
  {
   "cell_type": "code",
   "execution_count": 14,
   "metadata": {},
   "outputs": [
    {
     "data": {
      "text/plain": [
       "Row(id=1, school='GP', sex='F', age=18, address='U', famsize='GT3', Pstatus='A', Medu=4, Fedu=4, Mjob='at_home', Fjob='teacher', reason='course', guardian='mother', traveltime=2, studytime=2, failures=0, schoolsup='yes', famsup='no', paid='no', activities='no', nursery='yes', higher='yes', internet='no', romantic='no', famrel=4, freetime=3.0, goout=4, Dalc=1.0, Walc=1.0, health=3.0, absences=6)"
      ]
     },
     "execution_count": 14,
     "metadata": {},
     "output_type": "execute_result"
    }
   ],
   "source": [
    "# can print out the first line name and value\n",
    "dataset_one.head()"
   ]
  },
  {
   "cell_type": "code",
   "execution_count": 15,
   "metadata": {},
   "outputs": [
    {
     "name": "stdout",
     "output_type": "stream",
     "text": [
      "Data type inside the dataset one\n"
     ]
    },
    {
     "data": {
      "text/plain": [
       "[('id', 'int'),\n",
       " ('school', 'string'),\n",
       " ('sex', 'string'),\n",
       " ('age', 'int'),\n",
       " ('address', 'string'),\n",
       " ('famsize', 'string'),\n",
       " ('Pstatus', 'string'),\n",
       " ('Medu', 'int'),\n",
       " ('Fedu', 'int'),\n",
       " ('Mjob', 'string'),\n",
       " ('Fjob', 'string'),\n",
       " ('reason', 'string'),\n",
       " ('guardian', 'string'),\n",
       " ('traveltime', 'int'),\n",
       " ('studytime', 'int'),\n",
       " ('failures', 'int'),\n",
       " ('schoolsup', 'string'),\n",
       " ('famsup', 'string'),\n",
       " ('paid', 'string'),\n",
       " ('activities', 'string'),\n",
       " ('nursery', 'string'),\n",
       " ('higher', 'string'),\n",
       " ('internet', 'string'),\n",
       " ('romantic', 'string'),\n",
       " ('famrel', 'int'),\n",
       " ('freetime', 'double'),\n",
       " ('goout', 'int'),\n",
       " ('Dalc', 'double'),\n",
       " ('Walc', 'double'),\n",
       " ('health', 'double'),\n",
       " ('absences', 'int')]"
      ]
     },
     "execution_count": 15,
     "metadata": {},
     "output_type": "execute_result"
    }
   ],
   "source": [
    "print(\"Data type inside the dataset one\")\n",
    "dataset_one.dtypes\n",
    "# print(dataset_one.printSchema())\n",
    "# print(dataset_two.printSchema())"
   ]
  },
  {
   "cell_type": "code",
   "execution_count": 16,
   "metadata": {},
   "outputs": [
    {
     "name": "stdout",
     "output_type": "stream",
     "text": [
      "Data type inside the dataset two\n"
     ]
    },
    {
     "data": {
      "text/plain": [
       "[('id', 'int'), ('G1', 'int'), ('G2', 'int'), ('G3', 'int')]"
      ]
     },
     "execution_count": 16,
     "metadata": {},
     "output_type": "execute_result"
    }
   ],
   "source": [
    "print(\"Data type inside the dataset two\")\n",
    "dataset_two.dtypes"
   ]
  },
  {
   "cell_type": "code",
   "execution_count": 29,
   "metadata": {},
   "outputs": [
    {
     "name": "stdout",
     "output_type": "stream",
     "text": [
      "Dataset one information: \n",
      "+-------+------------------+------+----+------------------+-------+-------+-------+------------------+------------------+-------+-------+----------+--------+------------------+------------------+------------------+---------+------+----+----------+-------+------+--------+--------+------------------+------------------+------------------+------------------+------------------+------------------+-----------------+\n",
      "|summary|                id|school| sex|               age|address|famsize|Pstatus|              Medu|              Fedu|   Mjob|   Fjob|    reason|guardian|        traveltime|         studytime|          failures|schoolsup|famsup|paid|activities|nursery|higher|internet|romantic|            famrel|          freetime|             goout|              Dalc|              Walc|            health|         absences|\n",
      "+-------+------------------+------+----+------------------+-------+-------+-------+------------------+------------------+-------+-------+----------+--------+------------------+------------------+------------------+---------+------+----+----------+-------+------+--------+--------+------------------+------------------+------------------+------------------+------------------+------------------+-----------------+\n",
      "|  count|               395|   395| 395|               395|    395|    395|    395|               395|               395|    395|    395|       395|     395|               395|               395|               395|      395|   395| 395|       395|    395|   395|     395|     395|               395|               393|               395|               392|               393|               393|              395|\n",
      "|   mean|             198.0|  null|null|16.696202531645568|   null|   null|   null| 2.749367088607595|2.5215189873417723|   null|   null|      null|    null|1.4481012658227848|2.0354430379746837|0.3341772151898734|     null|  null|null|      null|   null|  null|    null|    null|3.9443037974683546| 3.236641221374046| 3.108860759493671|1.4744897959183674| 2.287531806615776| 3.549618320610687|5.708860759493671|\n",
      "| stddev|114.17092449481173|  null|null|1.2760427246056265|   null|   null|   null|1.0947351414285371|1.0882005458269433|   null|   null|      null|    null|0.6975047549086822|0.8392403464185556|0.7436509736062509|     null|  null|null|      null|   null|  null|    null|    null|0.8966586076885046|0.9987139260837443|1.1132781740183422|0.8755632428459843|1.2882008750662577|1.3917417170619113|8.003095687108182|\n",
      "|    min|                 1|    GP|   F|                15|      R|    GT3|      A|                 0|                 0|at_home|at_home|    course|  father|                 1|                 1|                 0|       no|    no|  no|        no|     no|    no|      no|      no|                 1|               1.0|                 1|               1.0|               1.0|               1.0|                0|\n",
      "|    max|               395|    MS|   M|                22|      U|    LE3|      T|                 4|                 4|teacher|teacher|reputation|   other|                 4|                 4|                 3|      yes|   yes| yes|       yes|    yes|   yes|     yes|     yes|                 5|               5.0|                 5|               5.0|               5.0|               5.0|               75|\n",
      "+-------+------------------+------+----+------------------+-------+-------+-------+------------------+------------------+-------+-------+----------+--------+------------------+------------------+------------------+---------+------+----+----------+-------+------+--------+--------+------------------+------------------+------------------+------------------+------------------+------------------+-----------------+\n",
      "\n"
     ]
    }
   ],
   "source": [
    "# 2.3 Explore the data\n",
    "# need to see the difference between .show() vs .describe().shows()\n",
    "print(\"Dataset one information: \")\n",
    "dataset_one.describe().show() # truncate=False"
   ]
  },
  {
   "cell_type": "code",
   "execution_count": 30,
   "metadata": {},
   "outputs": [
    {
     "name": "stdout",
     "output_type": "stream",
     "text": [
      "+-------+------------------+------------------+------------------+------------------+\n",
      "|summary|                id|                G1|                G2|                G3|\n",
      "+-------+------------------+------------------+------------------+------------------+\n",
      "|  count|               395|               395|               395|               395|\n",
      "|   mean|             198.0| 10.90886075949367|10.713924050632912|10.415189873417722|\n",
      "| stddev|114.17092449481173|3.3191946715076686|3.7615046595560306|4.5814426109978434|\n",
      "|    min|                 1|                 3|                 0|                 0|\n",
      "|    max|               395|                19|                19|                20|\n",
      "+-------+------------------+------------------+------------------+------------------+\n",
      "\n"
     ]
    }
   ],
   "source": [
    "dataset_two.describe().show()"
   ]
  },
  {
   "cell_type": "code",
   "execution_count": 32,
   "metadata": {},
   "outputs": [],
   "source": [
    "# same as above\n",
    "# dataset_one.select(dataset_one.columns).describe().show()\n",
    "# dataset_two.select('G1', 'G2', 'G3').describe().show()"
   ]
  },
  {
   "cell_type": "code",
   "execution_count": 33,
   "metadata": {},
   "outputs": [
    {
     "name": "stdout",
     "output_type": "stream",
     "text": [
      "Student first year grade distribution: \n"
     ]
    },
    {
     "data": {
      "image/png": "[encoded data removed]",
      "text/plain": [
       "<Figure size 432x288 with 1 Axes>"
      ]
     },
     "metadata": {
      "needs_background": "light"
     },
     "output_type": "display_data"
    }
   ],
   "source": [
    "print(\"Student first year grade distribution: \")\n",
    "diagram_one = sns.countplot(x = dataset_two.toPandas()['G1'])\n",
    "diagram_one.set_xlabel('First Year Grade', fontsize = 10)\n",
    "diagram_one.set_ylabel('Number of students', fontsize = 10)\n",
    "diagram_one.axes.set_title('Student first year grade distribution', fontsize = 15)\n",
    "plt.show()"
   ]
  },
  {
   "cell_type": "code",
   "execution_count": 34,
   "metadata": {},
   "outputs": [
    {
     "name": "stdout",
     "output_type": "stream",
     "text": [
      "Student second year grade distribution: \n"
     ]
    },
    {
     "data": {
      "image/png": "[encoded data removed]",
      "text/plain": [
       "<Figure size 432x288 with 1 Axes>"
      ]
     },
     "metadata": {
      "needs_background": "light"
     },
     "output_type": "display_data"
    }
   ],
   "source": [
    "print(\"Student second year grade distribution: \")\n",
    "diagram_two = sns.countplot(x = dataset_two.toPandas()['G2'])\n",
    "diagram_two.set_xlabel('Second year Grade', fontsize = 10)\n",
    "diagram_two.set_ylabel('Number of students', fontsize = 10)\n",
    "diagram_two.axes.set_title('Student second year grade distribution', fontsize = 15)\n",
    "plt.show()"
   ]
  },
  {
   "cell_type": "code",
   "execution_count": 35,
   "metadata": {},
   "outputs": [
    {
     "name": "stdout",
     "output_type": "stream",
     "text": [
      "Student final year grade distribution: \n"
     ]
    },
    {
     "data": {
      "image/png": "[encoded data removed]",
      "text/plain": [
       "<Figure size 432x288 with 1 Axes>"
      ]
     },
     "metadata": {
      "needs_background": "light"
     },
     "output_type": "display_data"
    }
   ],
   "source": [
    "print(\"Student final year grade distribution: \")\n",
    "diagram_three = sns.countplot(x = dataset_two.toPandas()['G3'])\n",
    "diagram_three.set_xlabel('Final year Grade', fontsize = 10)\n",
    "diagram_three.set_ylabel('Number of students', fontsize = 10)\n",
    "diagram_three.axes.set_title('Student final year grade distribution', fontsize = 15)\n",
    "plt.show()"
   ]
  },
  {
   "cell_type": "code",
   "execution_count": 36,
   "metadata": {},
   "outputs": [
    {
     "name": "stdout",
     "output_type": "stream",
     "text": [
      "Gender distribution inside the dataset: \n"
     ]
    },
    {
     "data": {
      "image/png": "[encoded data removed]",
      "text/plain": [
       "<Figure size 432x288 with 1 Axes>"
      ]
     },
     "metadata": {
      "needs_background": "light"
     },
     "output_type": "display_data"
    },
    {
     "name": "stdout",
     "output_type": "stream",
     "text": [
      "Number of male students: 187\n",
      "Number of female students: 208\n"
     ]
    }
   ],
   "source": [
    "print(\"Gender distribution inside the dataset: \")\n",
    "plt.xlabel('Gender', fontsize = 10)\n",
    "plt.ylabel('Number of students', fontsize = 10)\n",
    "plt.title('Gender distribution', fontsize = 15)\n",
    "diagram_four = dataset_one.toPandas()['sex'].value_counts()\n",
    "plt.bar(diagram_four.index, diagram_four.values)\n",
    "plt.show()\n",
    "\n",
    "print('Number of male students:', len(dataset_one.toPandas()[dataset_one.toPandas()['sex'] == 'M']))\n",
    "print('Number of female students:', len(dataset_one.toPandas()[dataset_one.toPandas()['sex'] == 'F']))"
   ]
  },
  {
   "cell_type": "code",
   "execution_count": 37,
   "metadata": {},
   "outputs": [
    {
     "name": "stdout",
     "output_type": "stream",
     "text": [
      "Student age distribution: \n"
     ]
    },
    {
     "data": {
      "image/png": "[encoded data removed]",
      "text/plain": [
       "<Figure size 432x288 with 1 Axes>"
      ]
     },
     "metadata": {
      "needs_background": "light"
     },
     "output_type": "display_data"
    }
   ],
   "source": [
    "print(\"Student age distribution: \")\n",
    "diagram_five = sns.countplot(x = dataset_one.toPandas()['age'])\n",
    "diagram_five.set_xlabel('Age', fontsize = 10)\n",
    "diagram_five.set_ylabel('Number of students', fontsize = 10)\n",
    "diagram_five.axes.set_title('Student age distribution', fontsize = 15)\n",
    "plt.show()"
   ]
  },
  {
   "cell_type": "code",
   "execution_count": 38,
   "metadata": {},
   "outputs": [
    {
     "name": "stdout",
     "output_type": "stream",
     "text": [
      "Student in Urban or rural areas distribution\n"
     ]
    },
    {
     "data": {
      "image/png": "[encoded data removed]",
      "text/plain": [
       "<Figure size 432x288 with 1 Axes>"
      ]
     },
     "metadata": {
      "needs_background": "light"
     },
     "output_type": "display_data"
    },
    {
     "name": "stdout",
     "output_type": "stream",
     "text": [
      "Number of students in urban area: 307\n",
      "Number of students in rural area: 88\n"
     ]
    }
   ],
   "source": [
    "print(\"Student in Urban or rural areas distribution\")\n",
    "plt.xlabel('Area', fontsize = 10)\n",
    "plt.ylabel('Number of students', fontsize = 10)\n",
    "plt.title('Student in Urban or rural areas distribution', fontsize = 15)\n",
    "diagram_six = dataset_one.toPandas()['address'].value_counts()\n",
    "plt.bar(diagram_six.index, diagram_six.values)\n",
    "plt.show()\n",
    "\n",
    "print('Number of students in urban area:', len(dataset_one.toPandas()[dataset_one.toPandas()['address'] == 'U']))\n",
    "print('Number of students in rural area:', len(dataset_one.toPandas()[dataset_one.toPandas()['address'] == 'R']))"
   ]
  },
  {
   "cell_type": "code",
   "execution_count": 39,
   "metadata": {},
   "outputs": [
    {
     "name": "stdout",
     "output_type": "stream",
     "text": [
      "Missing value or null value in dataset one: \n",
      "            0\n",
      "id          0\n",
      "school      0\n",
      "sex         0\n",
      "age         0\n",
      "address     0\n",
      "famsize     0\n",
      "Pstatus     0\n",
      "Medu        0\n",
      "Fedu        0\n",
      "Mjob        0\n",
      "Fjob        0\n",
      "reason      0\n",
      "guardian    0\n",
      "traveltime  0\n",
      "studytime   0\n",
      "failures    0\n",
      "schoolsup   0\n",
      "famsup      0\n",
      "paid        0\n",
      "activities  0\n",
      "nursery     0\n",
      "higher      0\n",
      "internet    0\n",
      "romantic    0\n",
      "famrel      0\n",
      "freetime    2\n",
      "goout       0\n",
      "Dalc        3\n",
      "Walc        2\n",
      "health      2\n",
      "absences    0\n",
      "\n",
      "Missing value or null value in dataset two: \n",
      "    0\n",
      "id  0\n",
      "G1  0\n",
      "G2  0\n",
      "G3  0\n"
     ]
    }
   ],
   "source": [
    "from pyspark.sql.functions import isnan, when, count, col\n",
    "# 2.4 Verify the data quality\n",
    "# missing value from freetime, dalc, walc, health field.\n",
    "print(\"Missing value or null value in dataset one: \")\n",
    "print(dataset_one.select([count(when(isnan(c) | col(c).isNull(), c)).alias(c) for c in dataset_one.columns]).toPandas().transpose())\n",
    "print()\n",
    "print(\"Missing value or null value in dataset two: \")\n",
    "print(dataset_two.select([count(when(isnan(c) | col(c).isNull(), c)).alias(c) for c in dataset_two.columns]).toPandas().transpose())"
   ]
  },
  {
   "cell_type": "code",
   "execution_count": 57,
   "metadata": {},
   "outputs": [
    {
     "name": "stdout",
     "output_type": "stream",
     "text": [
      "Dataset one structure: 395 rows, and 34 columns\n"
     ]
    }
   ],
   "source": [
    "# 3.4 integraet various data source\n",
    "# combine the dataset\n",
    "dataset_three = dataset_one.join(dataset_two, on=['id'])\n",
    "print(\"Dataset one structure: \" + str(dataset_three.count()) + \" rows, and \" + str(len(dataset_three.columns)) + \" columns\")"
   ]
  },
  {
   "cell_type": "code",
   "execution_count": 58,
   "metadata": {},
   "outputs": [],
   "source": [
    "# 2.3 Explore the data（more ploting)\n",
    "# plot more diagram in this section"
   ]
  },
  {
   "cell_type": "code",
   "execution_count": 59,
   "metadata": {},
   "outputs": [
    {
     "name": "stdout",
     "output_type": "stream",
     "text": [
      "Students go out time: \n"
     ]
    },
    {
     "data": {
      "image/png": "[encoded data removed]",
      "text/plain": [
       "<Figure size 432x288 with 1 Axes>"
      ]
     },
     "metadata": {
      "needs_background": "light"
     },
     "output_type": "display_data"
    }
   ],
   "source": [
    "print(\"Students go out time: \")\n",
    "diagram_seven = sns.stripplot(x = dataset_three.toPandas()['goout'], y = dataset_three.toPandas()[\"G3\"])\n",
    "diagram_seven.set_xlabel('Go out', fontsize = 10)\n",
    "diagram_seven.set_ylabel('Final Grade G3', fontsize = 10)\n",
    "diagram_seven.axes.set_title('Students go out time', fontsize = 15)\n",
    "plt.show()"
   ]
  },
  {
   "cell_type": "code",
   "execution_count": 60,
   "metadata": {},
   "outputs": [
    {
     "name": "stdout",
     "output_type": "stream",
     "text": [
      "Students study time: \n"
     ]
    },
    {
     "data": {
      "image/png": "[encoded data removed]",
      "text/plain": [
       "<Figure size 432x288 with 1 Axes>"
      ]
     },
     "metadata": {
      "needs_background": "light"
     },
     "output_type": "display_data"
    }
   ],
   "source": [
    "print(\"Students study time: \")\n",
    "diagram_eight = sns.stripplot(x = dataset_three.toPandas()['studytime'], y = dataset_three.toPandas()[\"G3\"])\n",
    "diagram_eight.set_xlabel('Study Time', fontsize = 10)\n",
    "diagram_eight.set_ylabel('Final Grade G3', fontsize = 10)\n",
    "diagram_eight.axes.set_title('Students study time', fontsize = 15)\n",
    "plt.show()"
   ]
  },
  {
   "cell_type": "code",
   "execution_count": 61,
   "metadata": {},
   "outputs": [
    {
     "name": "stdout",
     "output_type": "stream",
     "text": [
      "Mother's job:\n"
     ]
    },
    {
     "data": {
      "image/png": "[encoded data removed]",
      "text/plain": [
       "<Figure size 432x288 with 1 Axes>"
      ]
     },
     "metadata": {
      "needs_background": "light"
     },
     "output_type": "display_data"
    }
   ],
   "source": [
    "print(\"Mother's job:\")\n",
    "diagram_nine = sns.countplot(x = dataset_three.toPandas()[\"Mjob\"])\n",
    "diagram_nine.set_xlabel(\"Mother's job\", fontsize = 10)\n",
    "diagram_nine.set_ylabel('Counts', fontsize = 10)\n",
    "diagram_nine.axes.set_title(\"Mother's job\", fontsize = 15)\n",
    "plt.show()"
   ]
  },
  {
   "cell_type": "code",
   "execution_count": 62,
   "metadata": {},
   "outputs": [
    {
     "name": "stdout",
     "output_type": "stream",
     "text": [
      "Father's job:\n"
     ]
    },
    {
     "data": {
      "image/png": "[encoded data removed]",
      "text/plain": [
       "<Figure size 432x288 with 1 Axes>"
      ]
     },
     "metadata": {
      "needs_background": "light"
     },
     "output_type": "display_data"
    }
   ],
   "source": [
    "print(\"Father's job:\")\n",
    "diagram_ten = sns.countplot(x = dataset_three.toPandas()[\"Fjob\"])\n",
    "diagram_ten.set_xlabel(\"Father's job\", fontsize = 10)\n",
    "diagram_ten.set_ylabel('Counts', fontsize = 10)\n",
    "diagram_ten.axes.set_title(\"Father's job\", fontsize = 15)\n",
    "plt.show()"
   ]
  },
  {
   "cell_type": "code",
   "execution_count": 63,
   "metadata": {},
   "outputs": [
    {
     "name": "stdout",
     "output_type": "stream",
     "text": [
      "Father's education level:\n"
     ]
    },
    {
     "data": {
      "image/png": "[encoded data removed]",
      "text/plain": [
       "<Figure size 432x288 with 1 Axes>"
      ]
     },
     "metadata": {
      "needs_background": "light"
     },
     "output_type": "display_data"
    }
   ],
   "source": [
    "print(\"Father's education level:\")\n",
    "diagram_eleven = sns.boxplot(x = dataset_three.toPandas()[\"Fedu\"], y = dataset_three.toPandas()[\"G3\"])\n",
    "diagram_eleven.set_xlabel(\"Father's education level\", fontsize = 10)\n",
    "diagram_eleven.set_ylabel('Final Grade G3', fontsize = 10)\n",
    "diagram_eleven.axes.set_title(\"Father's education level\", fontsize = 15)\n",
    "plt.show()"
   ]
  },
  {
   "cell_type": "code",
   "execution_count": 64,
   "metadata": {},
   "outputs": [
    {
     "name": "stdout",
     "output_type": "stream",
     "text": [
      "Mother's education level:\n"
     ]
    },
    {
     "data": {
      "image/png": "[encoded data removed]",
      "text/plain": [
       "<Figure size 432x288 with 1 Axes>"
      ]
     },
     "metadata": {
      "needs_background": "light"
     },
     "output_type": "display_data"
    }
   ],
   "source": [
    "print(\"Mother's education level:\")\n",
    "diagram_twelve = sns.boxplot(x = dataset_three.toPandas()[\"Medu\"], y = dataset_three.toPandas()[\"G3\"])\n",
    "diagram_twelve.set_xlabel(\"Mother's education level\", fontsize = 10)\n",
    "diagram_twelve.set_ylabel('Final Grade G3', fontsize = 10)\n",
    "diagram_twelve.axes.set_title(\"Mother's education level\", fontsize = 15)\n",
    "plt.show()"
   ]
  },
  {
   "cell_type": "code",
   "execution_count": 65,
   "metadata": {},
   "outputs": [
    {
     "name": "stdout",
     "output_type": "stream",
     "text": [
      "Dataset three length before removing the missing value: 395\n",
      "Dataset three length after removing the missing value: 387\n"
     ]
    }
   ],
   "source": [
    "# 3.2 Clean the data\n",
    "# removing the missing value\n",
    "print(\"Dataset three length before removing the missing value:\", dataset_three.count())\n",
    "dataset_three = dataset_three.na.drop()\n",
    "print(\"Dataset three length after removing the missing value:\", dataset_three.count())"
   ]
  },
  {
   "cell_type": "code",
   "execution_count": 66,
   "metadata": {},
   "outputs": [
    {
     "name": "stdout",
     "output_type": "stream",
     "text": [
      "Data type inside the dataset three before formating: \n"
     ]
    },
    {
     "data": {
      "text/plain": [
       "[('id', 'int'),\n",
       " ('school', 'string'),\n",
       " ('sex', 'string'),\n",
       " ('age', 'int'),\n",
       " ('address', 'string'),\n",
       " ('famsize', 'string'),\n",
       " ('Pstatus', 'string'),\n",
       " ('Medu', 'int'),\n",
       " ('Fedu', 'int'),\n",
       " ('Mjob', 'string'),\n",
       " ('Fjob', 'string'),\n",
       " ('reason', 'string'),\n",
       " ('guardian', 'string'),\n",
       " ('traveltime', 'int'),\n",
       " ('studytime', 'int'),\n",
       " ('failures', 'int'),\n",
       " ('schoolsup', 'string'),\n",
       " ('famsup', 'string'),\n",
       " ('paid', 'string'),\n",
       " ('activities', 'string'),\n",
       " ('nursery', 'string'),\n",
       " ('higher', 'string'),\n",
       " ('internet', 'string'),\n",
       " ('romantic', 'string'),\n",
       " ('famrel', 'int'),\n",
       " ('freetime', 'double'),\n",
       " ('goout', 'int'),\n",
       " ('Dalc', 'double'),\n",
       " ('Walc', 'double'),\n",
       " ('health', 'double'),\n",
       " ('absences', 'int'),\n",
       " ('G1', 'int'),\n",
       " ('G2', 'int'),\n",
       " ('G3', 'int')]"
      ]
     },
     "execution_count": 66,
     "metadata": {},
     "output_type": "execute_result"
    }
   ],
   "source": [
    "# 3.5 Format the data as required\n",
    "print(\"Data type inside the dataset three before formating: \")\n",
    "dataset_three.dtypes"
   ]
  },
  {
   "cell_type": "code",
   "execution_count": 67,
   "metadata": {},
   "outputs": [
    {
     "name": "stdout",
     "output_type": "stream",
     "text": [
      "['school', 'sex', 'address', 'famsize', 'Pstatus', 'Mjob', 'Fjob', 'reason', 'guardian', 'schoolsup', 'famsup', 'paid', 'activities', 'nursery', 'higher', 'internet', 'romantic']\n"
     ]
    }
   ],
   "source": [
    "types = dict(dataset_three.dtypes)\n",
    "column_names = []\n",
    "for key, value in types.items():\n",
    "    if value == 'string':\n",
    "        column_names.append(key)\n",
    "print(column_names)"
   ]
  },
  {
   "cell_type": "code",
   "execution_count": 68,
   "metadata": {},
   "outputs": [],
   "source": [
    "# The following code convert the string type field to catagorical value\n",
    "from pyspark.ml.feature import StringIndexer\n",
    "for item in column_names:\n",
    "    indexer = StringIndexer(inputCol=str(item), outputCol= str(item) + '_index')\n",
    "    dataset_three = indexer.fit(dataset_three).transform(dataset_three)\n",
    "for item in column_names:\n",
    "    dataset_three = dataset_three.drop(item)"
   ]
  },
  {
   "cell_type": "code",
   "execution_count": 69,
   "metadata": {},
   "outputs": [
    {
     "data": {
      "text/plain": [
       "[('id', 'int'),\n",
       " ('age', 'int'),\n",
       " ('Medu', 'int'),\n",
       " ('Fedu', 'int'),\n",
       " ('traveltime', 'int'),\n",
       " ('studytime', 'int'),\n",
       " ('failures', 'int'),\n",
       " ('famrel', 'int'),\n",
       " ('freetime', 'double'),\n",
       " ('goout', 'int'),\n",
       " ('Dalc', 'double'),\n",
       " ('Walc', 'double'),\n",
       " ('health', 'double'),\n",
       " ('absences', 'int'),\n",
       " ('G1', 'int'),\n",
       " ('G2', 'int'),\n",
       " ('G3', 'int'),\n",
       " ('school_index', 'double'),\n",
       " ('sex_index', 'double'),\n",
       " ('address_index', 'double'),\n",
       " ('famsize_index', 'double'),\n",
       " ('Pstatus_index', 'double'),\n",
       " ('Mjob_index', 'double'),\n",
       " ('Fjob_index', 'double'),\n",
       " ('reason_index', 'double'),\n",
       " ('guardian_index', 'double'),\n",
       " ('schoolsup_index', 'double'),\n",
       " ('famsup_index', 'double'),\n",
       " ('paid_index', 'double'),\n",
       " ('activities_index', 'double'),\n",
       " ('nursery_index', 'double'),\n",
       " ('higher_index', 'double'),\n",
       " ('internet_index', 'double'),\n",
       " ('romantic_index', 'double')]"
      ]
     },
     "execution_count": 69,
     "metadata": {},
     "output_type": "execute_result"
    }
   ],
   "source": [
    "dataset_three.dtypes"
   ]
  },
  {
   "cell_type": "code",
   "execution_count": 70,
   "metadata": {},
   "outputs": [
    {
     "name": "stdout",
     "output_type": "stream",
     "text": [
      "Dataset three length before removing the outliers value: 387\n",
      "Dataset three length after removing the outliers value: 384\n"
     ]
    }
   ],
   "source": [
    "# 3.2 Clean the data (part two)\n",
    "# removing the outliers value\n",
    "import numpy as np\n",
    "from scipy import stats\n",
    "print(\"Dataset three length before removing the outliers value:\", dataset_three.count())\n",
    "dataset_three_z = np.abs(stats.zscore(dataset_three.toPandas()))\n",
    "threshold = 5\n",
    "dataset_three = spark.createDataFrame((dataset_three.toPandas())[(dataset_three_z <= threshold).all(axis=1)])\n",
    "print(\"Dataset three length after removing the outliers value:\", dataset_three.count())"
   ]
  },
  {
   "cell_type": "code",
   "execution_count": 71,
   "metadata": {},
   "outputs": [],
   "source": [
    "# # 4.1 Reduce the data\n",
    "# # Find correlations with the Grade\n",
    "# dataset_three_correlated_fileds = dataset_three.corr()['G3'].sort_values(ascending=False)\n",
    "# print(\"List out the top 30 fields which has strong correlations relationship with the Final Grade G3: \")\n",
    "# print(dataset_three_correlated_fileds[0:10])\n",
    "from pyspark.mllib.stat import Statistics\n",
    "def compute_correlation_matrix(df, method='pearson'):\n",
    "    df_rdd = df.rdd.map(lambda row: row[0:])\n",
    "    corr_mat = Statistics.corr(df_rdd, method=method)\n",
    "    corr_mat_df = pd.DataFrame(corr_mat,\n",
    "                    columns=df.columns, \n",
    "                    index=df.columns)\n",
    "    return corr_mat_df\n",
    "# need to pring the results.\n",
    "dataset_three_correlated_fileds = compute_correlation_matrix(dataset_three)\n"
   ]
  },
  {
   "cell_type": "code",
   "execution_count": 72,
   "metadata": {},
   "outputs": [
    {
     "data": {
      "text/plain": [
       "G3                  1.000000\n",
       "G2                  0.903329\n",
       "G1                  0.800762\n",
       "Medu                0.212347\n",
       "Fedu                0.158774\n",
       "reason_index        0.129747\n",
       "Mjob_index          0.105370\n",
       "studytime           0.096361\n",
       "paid_index          0.095139\n",
       "sex_index           0.089416\n",
       "Fjob_index          0.081376\n",
       "famsize_index       0.065449\n",
       "absences            0.063318\n",
       "Pstatus_index       0.049089\n",
       "famrel              0.047334\n",
       "famsup_index        0.041279\n",
       "freetime            0.011508\n",
       "activities_index   -0.016997\n",
       "school_index       -0.042730\n",
       "guardian_index     -0.046371\n",
       "nursery_index      -0.047706\n",
       "Dalc               -0.053773\n",
       "Walc               -0.054663\n",
       "health             -0.060713\n",
       "schoolsup_index    -0.082580\n",
       "id                 -0.086843\n",
       "internet_index     -0.090203\n",
       "address_index      -0.101616\n",
       "traveltime         -0.111287\n",
       "romantic_index     -0.124596\n",
       "goout              -0.131369\n",
       "age                -0.156162\n",
       "higher_index       -0.183464\n",
       "failures           -0.362203\n",
       "Name: G3, dtype: float64"
      ]
     },
     "execution_count": 72,
     "metadata": {},
     "output_type": "execute_result"
    }
   ],
   "source": [
    "dataset_three_correlated_fileds = dataset_three_correlated_fileds.G3.sort_values(ascending=False)\n",
    "dataset_three_correlated_fileds"
   ]
  },
  {
   "cell_type": "code",
   "execution_count": 73,
   "metadata": {},
   "outputs": [
    {
     "name": "stdout",
     "output_type": "stream",
     "text": [
      "['G3', 'G2', 'G1', 'Medu', 'Fedu', 'reason_index', 'Mjob_index', 'studytime', 'paid_index', 'sex_index', 'Fjob_index', 'famsize_index', 'absences', 'Pstatus_index', 'famrel', 'famsup_index']\n",
      "\n",
      "The final dataset strucure after cleaning and data transformation: 384 rows, and 16 columns\n"
     ]
    }
   ],
   "source": [
    "# 4.2 Project the data\n",
    "# Removed\n",
    "# Will only grabe the top 10 most correlation features for the further study\n",
    "dataset_three_correlated_fileds = list(dataset_three_correlated_fileds.index[0:16])\n",
    "print(dataset_three_correlated_fileds)\n",
    "dataset_three = dataset_three.select(dataset_three_correlated_fileds)\n",
    "print(\"\\nThe final dataset strucure after cleaning and data transformation: \" + str(dataset_three.count()) + \" rows, and \" + str(len(dataset_three.columns)) + \" columns\")"
   ]
  },
  {
   "cell_type": "code",
   "execution_count": null,
   "metadata": {},
   "outputs": [],
   "source": []
  },
  {
   "cell_type": "code",
   "execution_count": 74,
   "metadata": {},
   "outputs": [
    {
     "name": "stdout",
     "output_type": "stream",
     "text": [
      "G1 vs G3\n"
     ]
    },
    {
     "data": {
      "image/png": "[encoded data removed]",
      "text/plain": [
       "<Figure size 432x288 with 1 Axes>"
      ]
     },
     "metadata": {
      "needs_background": "light"
     },
     "output_type": "display_data"
    }
   ],
   "source": [
    "# 5 Data-mining method(s) selection\n",
    "print(\"G1 vs G3\")\n",
    "diagram_thirteen = sns.regplot(x = dataset_three.toPandas()[\"G1\"], y = dataset_three.toPandas()[\"G3\"])\n",
    "diagram_thirteen.set_xlabel(\"G1\", fontsize = 10)\n",
    "diagram_thirteen.set_ylabel('G3', fontsize = 10)\n",
    "diagram_thirteen.axes.set_title(\"G1 vs G3\", fontsize = 15)\n",
    "plt.show()"
   ]
  },
  {
   "cell_type": "code",
   "execution_count": 75,
   "metadata": {},
   "outputs": [
    {
     "name": "stdout",
     "output_type": "stream",
     "text": [
      "G2 vs G3\n"
     ]
    },
    {
     "data": {
      "image/png": "[encoded data removed]",
      "text/plain": [
       "<Figure size 432x288 with 1 Axes>"
      ]
     },
     "metadata": {
      "needs_background": "light"
     },
     "output_type": "display_data"
    }
   ],
   "source": [
    "print(\"G2 vs G3\")\n",
    "diagram_fourteen = sns.regplot(x = dataset_three.toPandas()[\"G2\"], y = dataset_three.toPandas()[\"G3\"])\n",
    "diagram_fourteen.set_xlabel(\"G2\", fontsize = 10)\n",
    "diagram_fourteen.set_ylabel('G3', fontsize = 10)\n",
    "diagram_fourteen.axes.set_title(\"G2 vs G3\", fontsize = 15)\n",
    "plt.show()"
   ]
  },
  {
   "cell_type": "code",
   "execution_count": 76,
   "metadata": {},
   "outputs": [],
   "source": [
    "# Traning with Linear regression model\n",
    "from pyspark.ml.regression import LinearRegression\n",
    "# Import VectorAssembler and Vectors\n",
    "from pyspark.ml.linalg import Vectors\n",
    "from pyspark.ml.feature import VectorAssembler"
   ]
  },
  {
   "cell_type": "code",
   "execution_count": 78,
   "metadata": {},
   "outputs": [
    {
     "data": {
      "text/plain": [
       "['G2',\n",
       " 'G1',\n",
       " 'Medu',\n",
       " 'Fedu',\n",
       " 'reason_index',\n",
       " 'Mjob_index',\n",
       " 'studytime',\n",
       " 'paid_index',\n",
       " 'sex_index',\n",
       " 'Fjob_index',\n",
       " 'famsize_index',\n",
       " 'absences',\n",
       " 'Pstatus_index',\n",
       " 'famrel',\n",
       " 'famsup_index']"
      ]
     },
     "execution_count": 78,
     "metadata": {},
     "output_type": "execute_result"
    }
   ],
   "source": [
    "# Grabed the input variables, 'G3' is the label value so exclude it.\n",
    "dataset_three_correlated_fileds[1:]"
   ]
  },
  {
   "cell_type": "code",
   "execution_count": 79,
   "metadata": {},
   "outputs": [],
   "source": [
    "# The input columns are the feature column names, and the output column is what you'd like the new column to be named. \n",
    "assembler = VectorAssembler(\n",
    "    inputCols=dataset_three_correlated_fileds[1:],\n",
    "    outputCol=\"features\")"
   ]
  },
  {
   "cell_type": "code",
   "execution_count": 80,
   "metadata": {},
   "outputs": [],
   "source": [
    "# Now that we've created the assembler variable, let's actually transform the data.\n",
    "output = assembler.transform(dataset_three)"
   ]
  },
  {
   "cell_type": "code",
   "execution_count": 81,
   "metadata": {},
   "outputs": [
    {
     "name": "stdout",
     "output_type": "stream",
     "text": [
      "+--------------------+---+\n",
      "|            features| G3|\n",
      "+--------------------+---+\n",
      "|[6.0,5.0,4.0,4.0,...|  6|\n",
      "|(15,[0,1,2,3,5,6,...|  6|\n",
      "|[8.0,7.0,1.0,1.0,...| 10|\n",
      "|[14.0,15.0,4.0,2....| 15|\n",
      "|[10.0,6.0,3.0,3.0...| 10|\n",
      "|[12.0,12.0,2.0,2....| 11|\n",
      "|[5.0,6.0,4.0,4.0,...|  6|\n",
      "|[15.0,14.0,3.0,4....| 15|\n",
      "|[8.0,10.0,4.0,4.0...|  9|\n",
      "|[12.0,10.0,2.0,1....| 12|\n",
      "|[14.0,14.0,4.0,4....| 14|\n",
      "|[10.0,10.0,4.0,3....| 11|\n",
      "|[16.0,14.0,2.0,2....| 16|\n",
      "|[14.0,14.0,4.0,4....| 14|\n",
      "|[14.0,13.0,4.0,4....| 14|\n",
      "|[5.0,6.0,3.0,2.0,...|  5|\n",
      "|[10.0,8.0,4.0,3.0...| 10|\n",
      "|[14.0,13.0,4.0,3....| 15|\n",
      "|[15.0,12.0,4.0,4....| 15|\n",
      "|[9.0,10.0,2.0,4.0...|  8|\n",
      "+--------------------+---+\n",
      "only showing top 20 rows\n",
      "\n"
     ]
    }
   ],
   "source": [
    "# Let's select two columns (the feature and predictor).\n",
    "# This is now in the appropriate format to be processed by Spark.\n",
    "final_data = output.select(\"features\",'G3')\n",
    "final_data.show()"
   ]
  },
  {
   "cell_type": "code",
   "execution_count": 82,
   "metadata": {},
   "outputs": [],
   "source": [
    "# Let's do a randomised 70/30 split. \n",
    "# Remember, you can use other splits depending on how easy/difficult it is to train your model.\n",
    "train_data,test_data = final_data.randomSplit([0.7,0.3])"
   ]
  },
  {
   "cell_type": "code",
   "execution_count": 83,
   "metadata": {},
   "outputs": [],
   "source": [
    "lr = LinearRegression(labelCol='G3')\n",
    "# Fit the model to the data.\n",
    "lrModel = lr.fit(train_data)"
   ]
  },
  {
   "cell_type": "code",
   "execution_count": 84,
   "metadata": {},
   "outputs": [
    {
     "name": "stdout",
     "output_type": "stream",
     "text": [
      "Coefficients: [0.9728112926661366,0.180799163506656,0.13657967399592227,-0.1416008146917148,-0.033609587044465074,-0.10933461240899772,-0.10684238530378033,0.22177666343748031,0.14187485128607108,-0.00422783620514598,0.23416185236965145,0.055704614758996546,-0.022833775672599373,0.3559591141934356,-0.10546793017193712] Intercept: -3.5049713303210748\n"
     ]
    }
   ],
   "source": [
    "# Print the coefficients and intercept for linear regression.\n",
    "print(\"Coefficients: {} Intercept: {}\".format(lrModel.coefficients,lrModel.intercept))"
   ]
  },
  {
   "cell_type": "code",
   "execution_count": 85,
   "metadata": {},
   "outputs": [],
   "source": [
    "# Let's evaluate the model against the test data.\n",
    "test_results = lrModel.evaluate(test_data)"
   ]
  },
  {
   "cell_type": "code",
   "execution_count": 86,
   "metadata": {},
   "outputs": [
    {
     "name": "stdout",
     "output_type": "stream",
     "text": [
      "+--------------------+\n",
      "|           residuals|\n",
      "+--------------------+\n",
      "|  2.1532851819434864|\n",
      "|  -7.067969310718146|\n",
      "|  0.3283487795649904|\n",
      "|  0.8322521660894004|\n",
      "|-0.24734017481238624|\n",
      "|  -7.720609417917819|\n",
      "| -0.3058022700071703|\n",
      "|  1.4727515568220877|\n",
      "|  0.4390994925246172|\n",
      "|   2.851555082464362|\n",
      "|  0.9652743163116524|\n",
      "|  -3.314503589920629|\n",
      "|   2.169025415810461|\n",
      "| -0.3843889704463024|\n",
      "|   2.096724109140821|\n",
      "|    2.05540793044457|\n",
      "|  -5.415752268333346|\n",
      "|  1.7398555912318479|\n",
      "|  0.8568079261476917|\n",
      "| -0.4613320967107839|\n",
      "+--------------------+\n",
      "only showing top 20 rows\n",
      "\n",
      "RSME: 1.893321893460301\n"
     ]
    }
   ],
   "source": [
    "# Interesting results! This shows the difference between the predicted value and the test data.\n",
    "test_results.residuals.show()\n",
    "\n",
    "# Let's get some evaluation metrics (as discussed in the previous linear regression notebook).\n",
    "print(\"RSME: {}\".format(test_results.rootMeanSquaredError))"
   ]
  },
  {
   "cell_type": "code",
   "execution_count": 87,
   "metadata": {},
   "outputs": [
    {
     "name": "stdout",
     "output_type": "stream",
     "text": [
      "R2: 0.7993900509145829\n"
     ]
    }
   ],
   "source": [
    "# We can also get the R2 value. \n",
    "print(\"R2: {}\".format(test_results.r2))"
   ]
  },
  {
   "cell_type": "code",
   "execution_count": 88,
   "metadata": {},
   "outputs": [
    {
     "name": "stdout",
     "output_type": "stream",
     "text": [
      "+-------+------------------+\n",
      "|summary|                G3|\n",
      "+-------+------------------+\n",
      "|  count|               384|\n",
      "|   mean|10.380208333333334|\n",
      "| stddev| 4.602329295414341|\n",
      "|    min|                 0|\n",
      "|    max|                20|\n",
      "+-------+------------------+\n",
      "\n"
     ]
    }
   ],
   "source": [
    "final_data.describe().show()"
   ]
  },
  {
   "cell_type": "code",
   "execution_count": 91,
   "metadata": {},
   "outputs": [
    {
     "name": "stdout",
     "output_type": "stream",
     "text": [
      "+--------------------+\n",
      "|           residuals|\n",
      "+--------------------+\n",
      "|  -3.256279875309227|\n",
      "|  1.5995721668360208|\n",
      "|  -6.133738294742864|\n",
      "|  1.5982645089163814|\n",
      "|   1.054695579752396|\n",
      "|-0.19586536606715654|\n",
      "|  0.8667357441558909|\n",
      "|-0.34276065919451604|\n",
      "|  -7.534023703749497|\n",
      "|  0.5041931316011894|\n",
      "|   2.171680155575295|\n",
      "|  1.9455636761669295|\n",
      "|  2.3117980087284913|\n",
      "|   0.734694802332923|\n",
      "|  -3.717502053947804|\n",
      "|  0.9349744302376024|\n",
      "|  0.4470895145754632|\n",
      "|  1.6283802758508141|\n",
      "| -0.7982778169395903|\n",
      "|  0.5342446333518183|\n",
      "+--------------------+\n",
      "only showing top 20 rows\n",
      "\n"
     ]
    }
   ],
   "source": [
    "# lrModel.summary ??"
   ]
  },
  {
   "cell_type": "code",
   "execution_count": null,
   "metadata": {},
   "outputs": [],
   "source": []
  },
  {
   "cell_type": "code",
   "execution_count": 92,
   "metadata": {},
   "outputs": [],
   "source": [
    "# Gradient-boosted tree regression\n",
    "from pyspark.ml import Pipeline\n",
    "from pyspark.ml.regression import GBTRegressor\n",
    "from pyspark.ml.evaluation import RegressionEvaluator"
   ]
  },
  {
   "cell_type": "code",
   "execution_count": 93,
   "metadata": {},
   "outputs": [],
   "source": [
    "# Let's do a randomised 70/30 split. \n",
    "# Remember, you can use other splits depending on how easy/difficult it is to train your model.\n",
    "train_data,test_data = final_data.randomSplit([0.7,0.3])"
   ]
  },
  {
   "cell_type": "code",
   "execution_count": 94,
   "metadata": {},
   "outputs": [],
   "source": [
    "gbt = GBTRegressor(labelCol = 'G3', featuresCol = 'features', maxIter=10)"
   ]
  },
  {
   "cell_type": "code",
   "execution_count": 95,
   "metadata": {},
   "outputs": [],
   "source": [
    "gbt_model = gbt.fit(train_data)"
   ]
  },
  {
   "cell_type": "code",
   "execution_count": 96,
   "metadata": {},
   "outputs": [],
   "source": [
    "test_results = gbt_model.transform(test_data)"
   ]
  },
  {
   "cell_type": "code",
   "execution_count": 97,
   "metadata": {},
   "outputs": [
    {
     "data": {
      "text/plain": [
       "DataFrame[features: vector, G3: bigint, prediction: double]"
      ]
     },
     "execution_count": 97,
     "metadata": {},
     "output_type": "execute_result"
    }
   ],
   "source": [
    "test_results"
   ]
  },
  {
   "cell_type": "code",
   "execution_count": 98,
   "metadata": {},
   "outputs": [],
   "source": [
    "evaluator = RegressionEvaluator(\n",
    "    labelCol=\"G3\", predictionCol=\"prediction\", metricName=\"rmse\")\n",
    "rmse = evaluator.evaluate(test_results)"
   ]
  },
  {
   "cell_type": "code",
   "execution_count": 99,
   "metadata": {},
   "outputs": [
    {
     "name": "stdout",
     "output_type": "stream",
     "text": [
      "Root Mean Squared Error (RMSE) on test data = 2.34675\n"
     ]
    }
   ],
   "source": [
    "print(\"Root Mean Squared Error (RMSE) on test data = %g\" % rmse)"
   ]
  },
  {
   "cell_type": "code",
   "execution_count": null,
   "metadata": {},
   "outputs": [],
   "source": []
  },
  {
   "cell_type": "code",
   "execution_count": 100,
   "metadata": {},
   "outputs": [],
   "source": [
    "from pyspark.ml import Pipeline\n",
    "from pyspark.ml.regression import RandomForestRegressor\n",
    "from pyspark.ml.feature import VectorIndexer\n",
    "from pyspark.ml.evaluation import RegressionEvaluator"
   ]
  },
  {
   "cell_type": "code",
   "execution_count": 101,
   "metadata": {},
   "outputs": [],
   "source": [
    "# Let's do a randomised 70/30 split. \n",
    "# Remember, you can use other splits depending on how easy/difficult it is to train your model.\n",
    "train_data,test_data = final_data.randomSplit([0.7,0.3])"
   ]
  },
  {
   "cell_type": "code",
   "execution_count": 102,
   "metadata": {},
   "outputs": [],
   "source": [
    "rf = RandomForestRegressor(labelCol=\"G3\", predictionCol=\"prediction\")"
   ]
  },
  {
   "cell_type": "code",
   "execution_count": 103,
   "metadata": {},
   "outputs": [],
   "source": [
    "rf_model = rf.fit(train_data)"
   ]
  },
  {
   "cell_type": "code",
   "execution_count": 104,
   "metadata": {},
   "outputs": [
    {
     "data": {
      "text/plain": [
       "DataFrame[features: vector, G3: bigint, prediction: double]"
      ]
     },
     "execution_count": 104,
     "metadata": {},
     "output_type": "execute_result"
    }
   ],
   "source": [
    "test_results = rf_model.transform(test_data)\n",
    "test_results"
   ]
  },
  {
   "cell_type": "code",
   "execution_count": 105,
   "metadata": {},
   "outputs": [],
   "source": [
    "evaluator = RegressionEvaluator(\n",
    "    labelCol=\"G3\", predictionCol=\"prediction\", metricName=\"rmse\")\n",
    "rmse = evaluator.evaluate(test_results)"
   ]
  },
  {
   "cell_type": "code",
   "execution_count": 106,
   "metadata": {},
   "outputs": [
    {
     "name": "stdout",
     "output_type": "stream",
     "text": [
      "Root Mean Squared Error (RMSE) on test data = 2.02232\n"
     ]
    }
   ],
   "source": [
    "print(\"Root Mean Squared Error (RMSE) on test data = %g\" % rmse)"
   ]
  },
  {
   "cell_type": "code",
   "execution_count": null,
   "metadata": {},
   "outputs": [],
   "source": []
  },
  {
   "cell_type": "code",
   "execution_count": null,
   "metadata": {},
   "outputs": [],
   "source": []
  },
  {
   "cell_type": "code",
   "execution_count": null,
   "metadata": {},
   "outputs": [],
   "source": []
  },
  {
   "cell_type": "code",
   "execution_count": null,
   "metadata": {},
   "outputs": [],
   "source": []
  },
  {
   "cell_type": "code",
   "execution_count": null,
   "metadata": {},
   "outputs": [],
   "source": []
  },
  {
   "cell_type": "code",
   "execution_count": null,
   "metadata": {},
   "outputs": [],
   "source": []
  },
  {
   "cell_type": "code",
   "execution_count": null,
   "metadata": {},
   "outputs": [],
   "source": []
  }
 ],
 "metadata": {
  "kernelspec": {
   "display_name": "Python 3",
   "language": "python",
   "name": "python3"
  },
  "language_info": {
   "codemirror_mode": {
    "name": "ipython",
    "version": 3
   },
   "file_extension": ".py",
   "mimetype": "text/x-python",
   "name": "python",
   "nbconvert_exporter": "python",
   "pygments_lexer": "ipython3",
   "version": "3.6.9"
  }
 },
 "nbformat": 4,
 "nbformat_minor": 2
}
