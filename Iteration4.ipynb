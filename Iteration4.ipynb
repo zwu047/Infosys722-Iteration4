{
 "cells": [
  {
   "cell_type": "code",
   "execution_count": 1,
   "metadata": {},
   "outputs": [],
   "source": [
    "import findspark\n",
    "# using the latest pyspark version\n",
    "# findspark.init('/home/ubuntu/spark-2.1.1-bin-hadoop2.7')\n",
    "findspark.init('/home/ubuntu/spark-3.1.1-bin-hadoop3.2')\n",
    "import pyspark\n",
    "from pyspark.sql import SparkSession\n",
    "spark = SparkSession.builder.appName('Iteration4').getOrCreate()"
   ]
  },
  {
   "cell_type": "code",
   "execution_count": 2,
   "metadata": {},
   "outputs": [
    {
     "data": {
      "text/html": [
       "<style>.container { width:100% !important; }</style>"
      ],
      "text/plain": [
       "<IPython.core.display.HTML object>"
      ]
     },
     "metadata": {},
     "output_type": "display_data"
    }
   ],
   "source": [
    "import matplotlib.pyplot as plt\n",
    "from pyspark.ml.stat import Correlation\n",
    "import pandas as pd\n",
    "import seaborn as sns\n",
    "import numpy as np\n",
    "from scipy import stats\n",
    "from IPython.core.display import display, HTML\n",
    "display(HTML(\"<style>.container { width:100% !important; }</style>\"))"
   ]
  },
  {
   "cell_type": "code",
   "execution_count": 3,
   "metadata": {},
   "outputs": [],
   "source": [
    "# Reading the datasets\n",
    "dataset_one = spark.read.csv('./student-math-dataset1.csv', header=True, inferSchema=True)\n",
    "dataset_two = spark.read.csv('./student-math-dataset2.csv', header=True, inferSchema=True)"
   ]
  },
  {
   "cell_type": "code",
   "execution_count": 4,
   "metadata": {},
   "outputs": [
    {
     "name": "stdout",
     "output_type": "stream",
     "text": [
      "Dataset one structure: 395 rows, and 31 columns\n",
      "Dataset two structure: 395 rows, and 4 columns\n",
      "How many students inside the dataset: 395\n"
     ]
    }
   ],
   "source": [
    "# 2.2 Describe the data\n",
    "print(\"Dataset one structure: \" + str(dataset_one.count()) + \" rows, and \" + str(len(dataset_one.columns)) + \" columns\")\n",
    "print(\"Dataset two structure: \" + str(dataset_two.count()) + \" rows, and \" + str(len(dataset_two.columns)) + \" columns\")\n",
    "print(\"How many students inside the dataset: \" + str(dataset_one.count()))"
   ]
  },
  {
   "cell_type": "code",
   "execution_count": 5,
   "metadata": {},
   "outputs": [
    {
     "data": {
      "text/plain": [
       "Row(id=1, school='GP', sex='F', age=18, address='U', famsize='GT3', Pstatus='A', Medu=4, Fedu=4, Mjob='at_home', Fjob='teacher', reason='course', guardian='mother', traveltime=2, studytime=2, failures=0, schoolsup='yes', famsup='no', paid='no', activities='no', nursery='yes', higher='yes', internet='no', romantic='no', famrel=4, freetime=3.0, goout=4, Dalc=1.0, Walc=1.0, health=3.0, absences=6)"
      ]
     },
     "execution_count": 5,
     "metadata": {},
     "output_type": "execute_result"
    }
   ],
   "source": [
    "# can print out the first line name and value\n",
    "dataset_one.head()"
   ]
  },
  {
   "cell_type": "code",
   "execution_count": 6,
   "metadata": {},
   "outputs": [
    {
     "name": "stdout",
     "output_type": "stream",
     "text": [
      "Data type inside the dataset one\n"
     ]
    },
    {
     "data": {
      "text/plain": [
       "[('id', 'int'),\n",
       " ('school', 'string'),\n",
       " ('sex', 'string'),\n",
       " ('age', 'int'),\n",
       " ('address', 'string'),\n",
       " ('famsize', 'string'),\n",
       " ('Pstatus', 'string'),\n",
       " ('Medu', 'int'),\n",
       " ('Fedu', 'int'),\n",
       " ('Mjob', 'string'),\n",
       " ('Fjob', 'string'),\n",
       " ('reason', 'string'),\n",
       " ('guardian', 'string'),\n",
       " ('traveltime', 'int'),\n",
       " ('studytime', 'int'),\n",
       " ('failures', 'int'),\n",
       " ('schoolsup', 'string'),\n",
       " ('famsup', 'string'),\n",
       " ('paid', 'string'),\n",
       " ('activities', 'string'),\n",
       " ('nursery', 'string'),\n",
       " ('higher', 'string'),\n",
       " ('internet', 'string'),\n",
       " ('romantic', 'string'),\n",
       " ('famrel', 'int'),\n",
       " ('freetime', 'double'),\n",
       " ('goout', 'int'),\n",
       " ('Dalc', 'double'),\n",
       " ('Walc', 'double'),\n",
       " ('health', 'double'),\n",
       " ('absences', 'int')]"
      ]
     },
     "execution_count": 6,
     "metadata": {},
     "output_type": "execute_result"
    }
   ],
   "source": [
    "print(\"Data type inside the dataset one\")\n",
    "dataset_one.dtypes\n",
    "# print(dataset_one.printSchema())\n",
    "# print(dataset_two.printSchema())"
   ]
  },
  {
   "cell_type": "code",
   "execution_count": 7,
   "metadata": {},
   "outputs": [
    {
     "name": "stdout",
     "output_type": "stream",
     "text": [
      "Data type inside the dataset two\n"
     ]
    },
    {
     "data": {
      "text/plain": [
       "[('id', 'int'), ('G1', 'int'), ('G2', 'int'), ('G3', 'int')]"
      ]
     },
     "execution_count": 7,
     "metadata": {},
     "output_type": "execute_result"
    }
   ],
   "source": [
    "print(\"Data type inside the dataset two\")\n",
    "dataset_two.dtypes"
   ]
  },
  {
   "cell_type": "code",
   "execution_count": 8,
   "metadata": {},
   "outputs": [
    {
     "name": "stdout",
     "output_type": "stream",
     "text": [
      "Dataset one information: \n",
      "+-------+------------------+------+----+------------------+-------+-------+-------+------------------+------------------+-------+\n",
      "|summary|                id|school| sex|               age|address|famsize|Pstatus|              Medu|              Fedu|   Mjob|\n",
      "+-------+------------------+------+----+------------------+-------+-------+-------+------------------+------------------+-------+\n",
      "|  count|               395|   395| 395|               395|    395|    395|    395|               395|               395|    395|\n",
      "|   mean|             198.0|  null|null|16.696202531645568|   null|   null|   null| 2.749367088607595|2.5215189873417723|   null|\n",
      "| stddev|114.17092449481173|  null|null|1.2760427246056265|   null|   null|   null|1.0947351414285371|1.0882005458269433|   null|\n",
      "|    min|                 1|    GP|   F|                15|      R|    GT3|      A|                 0|                 0|at_home|\n",
      "|    max|               395|    MS|   M|                22|      U|    LE3|      T|                 4|                 4|teacher|\n",
      "+-------+------------------+------+----+------------------+-------+-------+-------+------------------+------------------+-------+\n",
      "\n",
      "None\n",
      "+-------+-------+----------+--------+------------------+------------------+------------------+---------+------+----+----------+-------+\n",
      "|summary|   Fjob|    reason|guardian|        traveltime|         studytime|          failures|schoolsup|famsup|paid|activities|nursery|\n",
      "+-------+-------+----------+--------+------------------+------------------+------------------+---------+------+----+----------+-------+\n",
      "|  count|    395|       395|     395|               395|               395|               395|      395|   395| 395|       395|    395|\n",
      "|   mean|   null|      null|    null|1.4481012658227848|2.0354430379746837|0.3341772151898734|     null|  null|null|      null|   null|\n",
      "| stddev|   null|      null|    null|0.6975047549086822|0.8392403464185556|0.7436509736062509|     null|  null|null|      null|   null|\n",
      "|    min|at_home|    course|  father|                 1|                 1|                 0|       no|    no|  no|        no|     no|\n",
      "|    max|teacher|reputation|   other|                 4|                 4|                 3|      yes|   yes| yes|       yes|    yes|\n",
      "+-------+-------+----------+--------+------------------+------------------+------------------+---------+------+----+----------+-------+\n",
      "\n",
      "None\n",
      "+-------+------+--------+--------+------------------+------------------+------------------+------------------+------------------+------------------+-----------------+\n",
      "|summary|higher|internet|romantic|            famrel|          freetime|             goout|              Dalc|              Walc|            health|         absences|\n",
      "+-------+------+--------+--------+------------------+------------------+------------------+------------------+------------------+------------------+-----------------+\n",
      "|  count|   395|     395|     395|               395|               393|               395|               392|               393|               393|              395|\n",
      "|   mean|  null|    null|    null|3.9443037974683546| 3.236641221374046| 3.108860759493671|1.4744897959183674| 2.287531806615776| 3.549618320610687|5.708860759493671|\n",
      "| stddev|  null|    null|    null|0.8966586076885046|0.9987139260837443|1.1132781740183422|0.8755632428459843|1.2882008750662577|1.3917417170619113|8.003095687108182|\n",
      "|    min|    no|      no|      no|                 1|               1.0|                 1|               1.0|               1.0|               1.0|                0|\n",
      "|    max|   yes|     yes|     yes|                 5|               5.0|                 5|               5.0|               5.0|               5.0|               75|\n",
      "+-------+------+--------+--------+------------------+------------------+------------------+------------------+------------------+------------------+-----------------+\n",
      "\n",
      "None\n"
     ]
    }
   ],
   "source": [
    "# 2.3 Explore the data\n",
    "# need to see the difference between .show() vs .describe().shows()\n",
    "print(\"Dataset one information: \")\n",
    "print(dataset_one.select(dataset_one.columns[0:10]).describe().show())\n",
    "print(dataset_one.select(dataset_one.columns[10:21]).describe().show())\n",
    "print(dataset_one.select(dataset_one.columns[21:]).describe().show())"
   ]
  },
  {
   "cell_type": "code",
   "execution_count": 9,
   "metadata": {},
   "outputs": [
    {
     "name": "stdout",
     "output_type": "stream",
     "text": [
      "+-------+------------------+------------------+------------------+------------------+\n",
      "|summary|                id|                G1|                G2|                G3|\n",
      "+-------+------------------+------------------+------------------+------------------+\n",
      "|  count|               395|               395|               395|               395|\n",
      "|   mean|             198.0| 10.90886075949367|10.713924050632912|10.415189873417722|\n",
      "| stddev|114.17092449481173|3.3191946715076686|3.7615046595560306|4.5814426109978434|\n",
      "|    min|                 1|                 3|                 0|                 0|\n",
      "|    max|               395|                19|                19|                20|\n",
      "+-------+------------------+------------------+------------------+------------------+\n",
      "\n"
     ]
    }
   ],
   "source": [
    "dataset_two.describe().show()"
   ]
  },
  {
   "cell_type": "code",
   "execution_count": 10,
   "metadata": {},
   "outputs": [
    {
     "name": "stdout",
     "output_type": "stream",
     "text": [
      "Student first year grade distribution: \n"
     ]
    },
    {
     "data": {
      "image/png": "[encoded data removed]",
      "text/plain": [
       "<Figure size 432x288 with 1 Axes>"
      ]
     },
     "metadata": {
      "needs_background": "light"
     },
     "output_type": "display_data"
    }
   ],
   "source": [
    "print(\"Student first year grade distribution: \")\n",
    "diagram_one = sns.countplot(x = dataset_two.toPandas()['G1'])\n",
    "diagram_one.set_xlabel('First Year Grade', fontsize = 10)\n",
    "diagram_one.set_ylabel('Number of students', fontsize = 10)\n",
    "diagram_one.axes.set_title('Student first year grade distribution', fontsize = 15)\n",
    "plt.show()"
   ]
  },
  {
   "cell_type": "code",
   "execution_count": 11,
   "metadata": {},
   "outputs": [
    {
     "name": "stdout",
     "output_type": "stream",
     "text": [
      "Student second year grade distribution: \n"
     ]
    },
    {
     "data": {
      "image/png": "[encoded data removed]",
      "text/plain": [
       "<Figure size 432x288 with 1 Axes>"
      ]
     },
     "metadata": {
      "needs_background": "light"
     },
     "output_type": "display_data"
    }
   ],
   "source": [
    "print(\"Student second year grade distribution: \")\n",
    "diagram_two = sns.countplot(x = dataset_two.toPandas()['G2'])\n",
    "diagram_two.set_xlabel('Second year Grade', fontsize = 10)\n",
    "diagram_two.set_ylabel('Number of students', fontsize = 10)\n",
    "diagram_two.axes.set_title('Student second year grade distribution', fontsize = 15)\n",
    "plt.show()"
   ]
  },
  {
   "cell_type": "code",
   "execution_count": 12,
   "metadata": {},
   "outputs": [
    {
     "name": "stdout",
     "output_type": "stream",
     "text": [
      "Student final year grade distribution: \n"
     ]
    },
    {
     "data": {
      "image/png": "[encoded data removed]",
      "text/plain": [
       "<Figure size 432x288 with 1 Axes>"
      ]
     },
     "metadata": {
      "needs_background": "light"
     },
     "output_type": "display_data"
    }
   ],
   "source": [
    "print(\"Student final year grade distribution: \")\n",
    "diagram_three = sns.countplot(x = dataset_two.toPandas()['G3'])\n",
    "diagram_three.set_xlabel('Final year Grade', fontsize = 10)\n",
    "diagram_three.set_ylabel('Number of students', fontsize = 10)\n",
    "diagram_three.axes.set_title('Student final year grade distribution', fontsize = 15)\n",
    "plt.show()"
   ]
  },
  {
   "cell_type": "code",
   "execution_count": 13,
   "metadata": {},
   "outputs": [
    {
     "name": "stdout",
     "output_type": "stream",
     "text": [
      "Gender distribution inside the dataset: \n"
     ]
    },
    {
     "data": {
      "image/png": "[encoded data removed]",
      "text/plain": [
       "<Figure size 432x288 with 1 Axes>"
      ]
     },
     "metadata": {
      "needs_background": "light"
     },
     "output_type": "display_data"
    },
    {
     "name": "stdout",
     "output_type": "stream",
     "text": [
      "Number of male students: 187\n",
      "Number of female students: 208\n"
     ]
    }
   ],
   "source": [
    "print(\"Gender distribution inside the dataset: \")\n",
    "plt.xlabel('Gender', fontsize = 10)\n",
    "plt.ylabel('Number of students', fontsize = 10)\n",
    "plt.title('Gender distribution', fontsize = 15)\n",
    "diagram_four = dataset_one.toPandas()['sex'].value_counts()\n",
    "plt.bar(diagram_four.index, diagram_four.values)\n",
    "plt.show()\n",
    "\n",
    "print('Number of male students:', len(dataset_one.toPandas()[dataset_one.toPandas()['sex'] == 'M']))\n",
    "print('Number of female students:', len(dataset_one.toPandas()[dataset_one.toPandas()['sex'] == 'F']))"
   ]
  },
  {
   "cell_type": "code",
   "execution_count": 14,
   "metadata": {},
   "outputs": [
    {
     "name": "stdout",
     "output_type": "stream",
     "text": [
      "Student age distribution: \n"
     ]
    },
    {
     "data": {
      "image/png": "[encoded data removed]",
      "text/plain": [
       "<Figure size 432x288 with 1 Axes>"
      ]
     },
     "metadata": {
      "needs_background": "light"
     },
     "output_type": "display_data"
    }
   ],
   "source": [
    "print(\"Student age distribution: \")\n",
    "diagram_five = sns.countplot(x = dataset_one.toPandas()['age'])\n",
    "diagram_five.set_xlabel('Age', fontsize = 10)\n",
    "diagram_five.set_ylabel('Number of students', fontsize = 10)\n",
    "diagram_five.axes.set_title('Student age distribution', fontsize = 15)\n",
    "plt.show()"
   ]
  },
  {
   "cell_type": "code",
   "execution_count": 15,
   "metadata": {},
   "outputs": [
    {
     "name": "stdout",
     "output_type": "stream",
     "text": [
      "Student in Urban or rural areas distribution\n"
     ]
    },
    {
     "data": {
      "image/png": "[encoded data removed]",
      "text/plain": [
       "<Figure size 432x288 with 1 Axes>"
      ]
     },
     "metadata": {
      "needs_background": "light"
     },
     "output_type": "display_data"
    },
    {
     "name": "stdout",
     "output_type": "stream",
     "text": [
      "Number of students in urban area: 307\n",
      "Number of students in rural area: 88\n"
     ]
    }
   ],
   "source": [
    "print(\"Student in Urban or rural areas distribution\")\n",
    "plt.xlabel('Area', fontsize = 10)\n",
    "plt.ylabel('Number of students', fontsize = 10)\n",
    "plt.title('Student in Urban or rural areas distribution', fontsize = 15)\n",
    "diagram_six = dataset_one.toPandas()['address'].value_counts()\n",
    "plt.bar(diagram_six.index, diagram_six.values)\n",
    "plt.show()\n",
    "\n",
    "print('Number of students in urban area:', len(dataset_one.toPandas()[dataset_one.toPandas()['address'] == 'U']))\n",
    "print('Number of students in rural area:', len(dataset_one.toPandas()[dataset_one.toPandas()['address'] == 'R']))"
   ]
  },
  {
   "cell_type": "code",
   "execution_count": 16,
   "metadata": {},
   "outputs": [
    {
     "name": "stdout",
     "output_type": "stream",
     "text": [
      "Missing value or null value in dataset one: \n",
      "DataFrame[id: bigint, school: bigint, sex: bigint, age: bigint, address: bigint, famsize: bigint, Pstatus: bigint, Medu: bigint, Fedu: bigint, Mjob: bigint, Fjob: bigint, reason: bigint, guardian: bigint, traveltime: bigint, studytime: bigint, failures: bigint, schoolsup: bigint, famsup: bigint, paid: bigint, activities: bigint, nursery: bigint, higher: bigint, internet: bigint, romantic: bigint, famrel: bigint, freetime: bigint, goout: bigint, Dalc: bigint, Walc: bigint, health: bigint, absences: bigint]\n",
      "\n",
      "Missing value or null value in dataset two: \n",
      "    0\n",
      "id  0\n",
      "G1  0\n",
      "G2  0\n",
      "G3  0\n"
     ]
    }
   ],
   "source": [
    "from pyspark.sql.functions import isnan, when, count, col\n",
    "# 2.4 Verify the data quality\n",
    "# missing value from freetime, dalc, walc, health field.\n",
    "print(\"Missing value or null value in dataset one: \")\n",
    "print(dataset_one.select([count(when(isnan(c) | col(c).isNull(), c)).alias(c) for c in dataset_one.columns]))\n",
    "print()\n",
    "print(\"Missing value or null value in dataset two: \")\n",
    "print(dataset_two.select([count(when(isnan(c) | col(c).isNull(), c)).alias(c) for c in dataset_two.columns]).toPandas().transpose())"
   ]
  },
  {
   "cell_type": "code",
   "execution_count": 17,
   "metadata": {},
   "outputs": [
    {
     "name": "stdout",
     "output_type": "stream",
     "text": [
      "Dataset one structure: 395 rows, and 34 columns\n"
     ]
    }
   ],
   "source": [
    "# 3.4 integraet various data source\n",
    "# combine the dataset\n",
    "dataset_three = dataset_one.join(dataset_two, on=['id'])\n",
    "print(\"Dataset one structure: \" + str(dataset_three.count()) + \" rows, and \" + str(len(dataset_three.columns)) + \" columns\")"
   ]
  },
  {
   "cell_type": "code",
   "execution_count": 18,
   "metadata": {},
   "outputs": [],
   "source": [
    "# 2.3 Explore the data（more ploting)\n",
    "# plot more diagram in this section"
   ]
  },
  {
   "cell_type": "code",
   "execution_count": 19,
   "metadata": {},
   "outputs": [
    {
     "name": "stdout",
     "output_type": "stream",
     "text": [
      "Students go out time: \n"
     ]
    },
    {
     "data": {
      "image/png": "[encoded data removed]",
      "text/plain": [
       "<Figure size 432x288 with 1 Axes>"
      ]
     },
     "metadata": {
      "needs_background": "light"
     },
     "output_type": "display_data"
    }
   ],
   "source": [
    "print(\"Students go out time: \")\n",
    "diagram_seven = sns.stripplot(x = dataset_three.toPandas()['goout'], y = dataset_three.toPandas()[\"G3\"])\n",
    "diagram_seven.set_xlabel('Go out', fontsize = 10)\n",
    "diagram_seven.set_ylabel('Final Grade G3', fontsize = 10)\n",
    "diagram_seven.axes.set_title('Students go out time', fontsize = 15)\n",
    "plt.show()"
   ]
  },
  {
   "cell_type": "code",
   "execution_count": 20,
   "metadata": {},
   "outputs": [
    {
     "name": "stdout",
     "output_type": "stream",
     "text": [
      "Students study time: \n"
     ]
    },
    {
     "data": {
      "image/png": "[encoded data removed]",
      "text/plain": [
       "<Figure size 432x288 with 1 Axes>"
      ]
     },
     "metadata": {
      "needs_background": "light"
     },
     "output_type": "display_data"
    }
   ],
   "source": [
    "print(\"Students study time: \")\n",
    "diagram_eight = sns.stripplot(x = dataset_three.toPandas()['studytime'], y = dataset_three.toPandas()[\"G3\"])\n",
    "diagram_eight.set_xlabel('Study Time', fontsize = 10)\n",
    "diagram_eight.set_ylabel('Final Grade G3', fontsize = 10)\n",
    "diagram_eight.axes.set_title('Students study time', fontsize = 15)\n",
    "plt.show()"
   ]
  },
  {
   "cell_type": "code",
   "execution_count": 21,
   "metadata": {},
   "outputs": [
    {
     "name": "stdout",
     "output_type": "stream",
     "text": [
      "Mother's job:\n"
     ]
    },
    {
     "data": {
      "image/png": "[encoded data removed]",
      "text/plain": [
       "<Figure size 432x288 with 1 Axes>"
      ]
     },
     "metadata": {
      "needs_background": "light"
     },
     "output_type": "display_data"
    }
   ],
   "source": [
    "print(\"Mother's job:\")\n",
    "diagram_nine = sns.countplot(x = dataset_three.toPandas()[\"Mjob\"])\n",
    "diagram_nine.set_xlabel(\"Mother's job\", fontsize = 10)\n",
    "diagram_nine.set_ylabel('Counts', fontsize = 10)\n",
    "diagram_nine.axes.set_title(\"Mother's job\", fontsize = 15)\n",
    "plt.show()"
   ]
  },
  {
   "cell_type": "code",
   "execution_count": 22,
   "metadata": {},
   "outputs": [
    {
     "name": "stdout",
     "output_type": "stream",
     "text": [
      "Father's job:\n"
     ]
    },
    {
     "data": {
      "image/png": "[encoded data removed]",
      "text/plain": [
       "<Figure size 432x288 with 1 Axes>"
      ]
     },
     "metadata": {
      "needs_background": "light"
     },
     "output_type": "display_data"
    }
   ],
   "source": [
    "print(\"Father's job:\")\n",
    "diagram_ten = sns.countplot(x = dataset_three.toPandas()[\"Fjob\"])\n",
    "diagram_ten.set_xlabel(\"Father's job\", fontsize = 10)\n",
    "diagram_ten.set_ylabel('Counts', fontsize = 10)\n",
    "diagram_ten.axes.set_title(\"Father's job\", fontsize = 15)\n",
    "plt.show()"
   ]
  },
  {
   "cell_type": "code",
   "execution_count": 23,
   "metadata": {},
   "outputs": [
    {
     "name": "stdout",
     "output_type": "stream",
     "text": [
      "Father's education level:\n"
     ]
    },
    {
     "data": {
      "image/png": "[encoded data removed]",
      "text/plain": [
       "<Figure size 432x288 with 1 Axes>"
      ]
     },
     "metadata": {
      "needs_background": "light"
     },
     "output_type": "display_data"
    }
   ],
   "source": [
    "print(\"Father's education level:\")\n",
    "diagram_eleven = sns.boxplot(x = dataset_three.toPandas()[\"Fedu\"], y = dataset_three.toPandas()[\"G3\"])\n",
    "diagram_eleven.set_xlabel(\"Father's education level\", fontsize = 10)\n",
    "diagram_eleven.set_ylabel('Final Grade G3', fontsize = 10)\n",
    "diagram_eleven.axes.set_title(\"Father's education level\", fontsize = 15)\n",
    "plt.show()"
   ]
  },
  {
   "cell_type": "code",
   "execution_count": 24,
   "metadata": {},
   "outputs": [
    {
     "name": "stdout",
     "output_type": "stream",
     "text": [
      "Mother's education level:\n"
     ]
    },
    {
     "data": {
      "image/png": "[encoded data removed]",
      "text/plain": [
       "<Figure size 432x288 with 1 Axes>"
      ]
     },
     "metadata": {
      "needs_background": "light"
     },
     "output_type": "display_data"
    }
   ],
   "source": [
    "print(\"Mother's education level:\")\n",
    "diagram_twelve = sns.boxplot(x = dataset_three.toPandas()[\"Medu\"], y = dataset_three.toPandas()[\"G3\"])\n",
    "diagram_twelve.set_xlabel(\"Mother's education level\", fontsize = 10)\n",
    "diagram_twelve.set_ylabel('Final Grade G3', fontsize = 10)\n",
    "diagram_twelve.axes.set_title(\"Mother's education level\", fontsize = 15)\n",
    "plt.show()"
   ]
  },
  {
   "cell_type": "code",
   "execution_count": 25,
   "metadata": {},
   "outputs": [
    {
     "name": "stdout",
     "output_type": "stream",
     "text": [
      "Dataset three length before removing the missing value: 395\n",
      "Dataset three length after removing the missing value: 387\n"
     ]
    }
   ],
   "source": [
    "# 3.2 Clean the data\n",
    "# removing the missing value\n",
    "print(\"Dataset three length before removing the missing value:\", dataset_three.count())\n",
    "dataset_three = dataset_three.na.drop()\n",
    "print(\"Dataset three length after removing the missing value:\", dataset_three.count())"
   ]
  },
  {
   "cell_type": "code",
   "execution_count": 26,
   "metadata": {},
   "outputs": [
    {
     "name": "stdout",
     "output_type": "stream",
     "text": [
      "Data type inside the dataset three before formating: \n"
     ]
    },
    {
     "data": {
      "text/plain": [
       "[('id', 'int'),\n",
       " ('school', 'string'),\n",
       " ('sex', 'string'),\n",
       " ('age', 'int'),\n",
       " ('address', 'string'),\n",
       " ('famsize', 'string'),\n",
       " ('Pstatus', 'string'),\n",
       " ('Medu', 'int'),\n",
       " ('Fedu', 'int'),\n",
       " ('Mjob', 'string'),\n",
       " ('Fjob', 'string'),\n",
       " ('reason', 'string'),\n",
       " ('guardian', 'string'),\n",
       " ('traveltime', 'int'),\n",
       " ('studytime', 'int'),\n",
       " ('failures', 'int'),\n",
       " ('schoolsup', 'string'),\n",
       " ('famsup', 'string'),\n",
       " ('paid', 'string'),\n",
       " ('activities', 'string'),\n",
       " ('nursery', 'string'),\n",
       " ('higher', 'string'),\n",
       " ('internet', 'string'),\n",
       " ('romantic', 'string'),\n",
       " ('famrel', 'int'),\n",
       " ('freetime', 'double'),\n",
       " ('goout', 'int'),\n",
       " ('Dalc', 'double'),\n",
       " ('Walc', 'double'),\n",
       " ('health', 'double'),\n",
       " ('absences', 'int'),\n",
       " ('G1', 'int'),\n",
       " ('G2', 'int'),\n",
       " ('G3', 'int')]"
      ]
     },
     "execution_count": 26,
     "metadata": {},
     "output_type": "execute_result"
    }
   ],
   "source": [
    "# 3.5 Format the data as required\n",
    "print(\"Data type inside the dataset three before formating: \")\n",
    "dataset_three.dtypes"
   ]
  },
  {
   "cell_type": "code",
   "execution_count": 27,
   "metadata": {},
   "outputs": [
    {
     "name": "stdout",
     "output_type": "stream",
     "text": [
      "['school', 'sex', 'address', 'famsize', 'Pstatus', 'Mjob', 'Fjob', 'reason', 'guardian', 'schoolsup', 'famsup', 'paid', 'activities', 'nursery', 'higher', 'internet', 'romantic']\n"
     ]
    }
   ],
   "source": [
    "types = dict(dataset_three.dtypes)\n",
    "column_names = []\n",
    "for key, value in types.items():\n",
    "    if value == 'string':\n",
    "        column_names.append(key)\n",
    "print(column_names)"
   ]
  },
  {
   "cell_type": "code",
   "execution_count": 28,
   "metadata": {},
   "outputs": [],
   "source": [
    "# The following code convert the string type field to catagorical value\n",
    "from pyspark.ml.feature import StringIndexer\n",
    "for item in column_names:\n",
    "    indexer = StringIndexer(inputCol=str(item), outputCol= str(item) + '_index')\n",
    "    dataset_three = indexer.fit(dataset_three).transform(dataset_three)\n",
    "for item in column_names:\n",
    "    dataset_three = dataset_three.drop(item)"
   ]
  },
  {
   "cell_type": "code",
   "execution_count": 29,
   "metadata": {},
   "outputs": [
    {
     "data": {
      "text/plain": [
       "[('id', 'int'),\n",
       " ('age', 'int'),\n",
       " ('Medu', 'int'),\n",
       " ('Fedu', 'int'),\n",
       " ('traveltime', 'int'),\n",
       " ('studytime', 'int'),\n",
       " ('failures', 'int'),\n",
       " ('famrel', 'int'),\n",
       " ('freetime', 'double'),\n",
       " ('goout', 'int'),\n",
       " ('Dalc', 'double'),\n",
       " ('Walc', 'double'),\n",
       " ('health', 'double'),\n",
       " ('absences', 'int'),\n",
       " ('G1', 'int'),\n",
       " ('G2', 'int'),\n",
       " ('G3', 'int'),\n",
       " ('school_index', 'double'),\n",
       " ('sex_index', 'double'),\n",
       " ('address_index', 'double'),\n",
       " ('famsize_index', 'double'),\n",
       " ('Pstatus_index', 'double'),\n",
       " ('Mjob_index', 'double'),\n",
       " ('Fjob_index', 'double'),\n",
       " ('reason_index', 'double'),\n",
       " ('guardian_index', 'double'),\n",
       " ('schoolsup_index', 'double'),\n",
       " ('famsup_index', 'double'),\n",
       " ('paid_index', 'double'),\n",
       " ('activities_index', 'double'),\n",
       " ('nursery_index', 'double'),\n",
       " ('higher_index', 'double'),\n",
       " ('internet_index', 'double'),\n",
       " ('romantic_index', 'double')]"
      ]
     },
     "execution_count": 29,
     "metadata": {},
     "output_type": "execute_result"
    }
   ],
   "source": [
    "dataset_three.dtypes"
   ]
  },
  {
   "cell_type": "code",
   "execution_count": 30,
   "metadata": {},
   "outputs": [
    {
     "name": "stdout",
     "output_type": "stream",
     "text": [
      "Dataset three length before removing the outliers value: 387\n",
      "Dataset three length after removing the outliers value: 384\n"
     ]
    }
   ],
   "source": [
    "# 3.2 Clean the data (part two)\n",
    "# removing the outliers value\n",
    "import numpy as np\n",
    "from scipy import stats\n",
    "print(\"Dataset three length before removing the outliers value:\", dataset_three.count())\n",
    "dataset_three_z = np.abs(stats.zscore(dataset_three.toPandas()))\n",
    "threshold = 5\n",
    "dataset_three = spark.createDataFrame((dataset_three.toPandas())[(dataset_three_z <= threshold).all(axis=1)])\n",
    "print(\"Dataset three length after removing the outliers value:\", dataset_three.count())"
   ]
  },
  {
   "cell_type": "code",
   "execution_count": 31,
   "metadata": {},
   "outputs": [],
   "source": [
    "# 4.1 Reduce the data\n",
    "# Find correlations with the Grade\n",
    "# dataset_three_correlated_fileds = dataset_three.corr()['G3'].sort_values(ascending=False)\n",
    "from pyspark.mllib.stat import Statistics\n",
    "def compute_correlation_matrix(df, method='pearson'):\n",
    "    df_rdd = df.rdd.map(lambda row: row[0:])\n",
    "    corr_mat = Statistics.corr(df_rdd, method=method)\n",
    "    corr_mat_df = pd.DataFrame(corr_mat,\n",
    "                    columns=df.columns, \n",
    "                    index=df.columns)\n",
    "    return corr_mat_df\n",
    "# need to pring the results.\n",
    "dataset_three_correlated_fileds = compute_correlation_matrix(dataset_three)\n"
   ]
  },
  {
   "cell_type": "code",
   "execution_count": 32,
   "metadata": {},
   "outputs": [
    {
     "data": {
      "text/plain": [
       "G3                  1.000000\n",
       "G2                  0.903329\n",
       "G1                  0.800762\n",
       "Medu                0.212347\n",
       "Fedu                0.158774\n",
       "reason_index        0.129747\n",
       "Mjob_index          0.105370\n",
       "studytime           0.096361\n",
       "paid_index          0.095139\n",
       "sex_index           0.089416\n",
       "Fjob_index          0.081376\n",
       "famsize_index       0.065449\n",
       "absences            0.063318\n",
       "Pstatus_index       0.049089\n",
       "famrel              0.047334\n",
       "famsup_index        0.041279\n",
       "freetime            0.011508\n",
       "activities_index   -0.016997\n",
       "school_index       -0.042730\n",
       "guardian_index     -0.046371\n",
       "nursery_index      -0.047706\n",
       "Dalc               -0.053773\n",
       "Walc               -0.054663\n",
       "health             -0.060713\n",
       "schoolsup_index    -0.082580\n",
       "id                 -0.086843\n",
       "internet_index     -0.090203\n",
       "address_index      -0.101616\n",
       "traveltime         -0.111287\n",
       "romantic_index     -0.124596\n",
       "goout              -0.131369\n",
       "age                -0.156162\n",
       "higher_index       -0.183464\n",
       "failures           -0.362203\n",
       "Name: G3, dtype: float64"
      ]
     },
     "execution_count": 32,
     "metadata": {},
     "output_type": "execute_result"
    }
   ],
   "source": [
    "dataset_three_correlated_fileds = dataset_three_correlated_fileds.G3.sort_values(ascending=False)\n",
    "dataset_three_correlated_fileds"
   ]
  },
  {
   "cell_type": "code",
   "execution_count": 33,
   "metadata": {},
   "outputs": [
    {
     "name": "stdout",
     "output_type": "stream",
     "text": [
      "['G3', 'G2', 'G1', 'Medu', 'Fedu', 'reason_index', 'Mjob_index', 'studytime', 'paid_index', 'sex_index', 'Fjob_index', 'famsize_index', 'absences', 'Pstatus_index', 'famrel', 'famsup_index']\n",
      "\n",
      "The final dataset strucure after cleaning and data transformation: 384 rows, and 16 columns\n"
     ]
    }
   ],
   "source": [
    "# 4.2 Project the data\n",
    "# Removed\n",
    "# Will only grabe the top 10 most correlation features for the further study\n",
    "dataset_three_correlated_fileds = list(dataset_three_correlated_fileds.index[0:16])\n",
    "print(dataset_three_correlated_fileds)\n",
    "dataset_three = dataset_three.select(dataset_three_correlated_fileds)\n",
    "print(\"\\nThe final dataset strucure after cleaning and data transformation: \" + str(dataset_three.count()) + \" rows, and \" + str(len(dataset_three.columns)) + \" columns\")"
   ]
  },
  {
   "cell_type": "code",
   "execution_count": 34,
   "metadata": {},
   "outputs": [
    {
     "data": {
      "image/png": "[encoded data removed]",
      "text/plain": [
       "<Figure size 432x288 with 2 Axes>"
      ]
     },
     "metadata": {
      "needs_background": "light"
     },
     "output_type": "display_data"
    }
   ],
   "source": [
    "sns.heatmap(dataset_three.toPandas().corr())\n",
    "plt.show()"
   ]
  },
  {
   "cell_type": "code",
   "execution_count": 35,
   "metadata": {},
   "outputs": [
    {
     "name": "stdout",
     "output_type": "stream",
     "text": [
      "G1 vs G3\n"
     ]
    },
    {
     "data": {
      "image/png": "[encoded data removed]",
      "text/plain": [
       "<Figure size 432x288 with 1 Axes>"
      ]
     },
     "metadata": {
      "needs_background": "light"
     },
     "output_type": "display_data"
    }
   ],
   "source": [
    "# Data-mining method(s) selection\n",
    "print(\"G1 vs G3\")\n",
    "diagram_thirteen = sns.regplot(x = dataset_three.toPandas()[\"G1\"], y = dataset_three.toPandas()[\"G3\"])\n",
    "diagram_thirteen.set_xlabel(\"G1\", fontsize = 10)\n",
    "diagram_thirteen.set_ylabel('G3', fontsize = 10)\n",
    "diagram_thirteen.axes.set_title(\"G1 vs G3\", fontsize = 15)\n",
    "plt.show()"
   ]
  },
  {
   "cell_type": "code",
   "execution_count": 36,
   "metadata": {},
   "outputs": [
    {
     "name": "stdout",
     "output_type": "stream",
     "text": [
      "G2 vs G3\n"
     ]
    },
    {
     "data": {
      "image/png": "[encoded data removed]",
      "text/plain": [
       "<Figure size 432x288 with 1 Axes>"
      ]
     },
     "metadata": {
      "needs_background": "light"
     },
     "output_type": "display_data"
    }
   ],
   "source": [
    "print(\"G2 vs G3\")\n",
    "diagram_fourteen = sns.regplot(x = dataset_three.toPandas()[\"G2\"], y = dataset_three.toPandas()[\"G3\"])\n",
    "diagram_fourteen.set_xlabel(\"G2\", fontsize = 10)\n",
    "diagram_fourteen.set_ylabel('G3', fontsize = 10)\n",
    "diagram_fourteen.axes.set_title(\"G2 vs G3\", fontsize = 15)\n",
    "plt.show()"
   ]
  },
  {
   "cell_type": "code",
   "execution_count": 37,
   "metadata": {},
   "outputs": [],
   "source": [
    "# Traning with Linear regression model\n",
    "from pyspark.ml.regression import LinearRegression\n",
    "# Import VectorAssembler and Vectors\n",
    "from pyspark.ml.linalg import Vectors\n",
    "from pyspark.ml.feature import VectorAssembler"
   ]
  },
  {
   "cell_type": "code",
   "execution_count": 38,
   "metadata": {},
   "outputs": [
    {
     "data": {
      "text/plain": [
       "['G2',\n",
       " 'G1',\n",
       " 'Medu',\n",
       " 'Fedu',\n",
       " 'reason_index',\n",
       " 'Mjob_index',\n",
       " 'studytime',\n",
       " 'paid_index',\n",
       " 'sex_index',\n",
       " 'Fjob_index',\n",
       " 'famsize_index',\n",
       " 'absences',\n",
       " 'Pstatus_index',\n",
       " 'famrel',\n",
       " 'famsup_index']"
      ]
     },
     "execution_count": 38,
     "metadata": {},
     "output_type": "execute_result"
    }
   ],
   "source": [
    "# Grabed the input variables, 'G3' is the label value so exclude it.\n",
    "dataset_three_correlated_fileds[1:]"
   ]
  },
  {
   "cell_type": "code",
   "execution_count": 39,
   "metadata": {},
   "outputs": [],
   "source": [
    "# The input columns are the feature column names, and the output column is what you'd like the new column to be named. \n",
    "assembler = VectorAssembler(\n",
    "    inputCols=dataset_three_correlated_fileds[1:],\n",
    "    outputCol=\"features\")"
   ]
  },
  {
   "cell_type": "code",
   "execution_count": 40,
   "metadata": {},
   "outputs": [],
   "source": [
    "# Now that we've created the assembler variable, let's actually transform the data.\n",
    "output = assembler.transform(dataset_three)"
   ]
  },
  {
   "cell_type": "code",
   "execution_count": 41,
   "metadata": {},
   "outputs": [
    {
     "name": "stdout",
     "output_type": "stream",
     "text": [
      "+--------------------+---+\n",
      "|            features| G3|\n",
      "+--------------------+---+\n",
      "|[6.0,5.0,4.0,4.0,...|  6|\n",
      "|(15,[0,1,2,3,5,6,...|  6|\n",
      "|[8.0,7.0,1.0,1.0,...| 10|\n",
      "|[14.0,15.0,4.0,2....| 15|\n",
      "|[10.0,6.0,3.0,3.0...| 10|\n",
      "|[12.0,12.0,2.0,2....| 11|\n",
      "|[5.0,6.0,4.0,4.0,...|  6|\n",
      "|[15.0,14.0,3.0,4....| 15|\n",
      "|[8.0,10.0,4.0,4.0...|  9|\n",
      "|[12.0,10.0,2.0,1....| 12|\n",
      "|[14.0,14.0,4.0,4....| 14|\n",
      "|[10.0,10.0,4.0,3....| 11|\n",
      "|[16.0,14.0,2.0,2....| 16|\n",
      "|[14.0,14.0,4.0,4....| 14|\n",
      "|[14.0,13.0,4.0,4....| 14|\n",
      "|[5.0,6.0,3.0,2.0,...|  5|\n",
      "|[10.0,8.0,4.0,3.0...| 10|\n",
      "|[14.0,13.0,4.0,3....| 15|\n",
      "|[15.0,12.0,4.0,4....| 15|\n",
      "|[9.0,10.0,2.0,4.0...|  8|\n",
      "+--------------------+---+\n",
      "only showing top 20 rows\n",
      "\n"
     ]
    }
   ],
   "source": [
    "# Let's select two columns (the feature and predictor).\n",
    "# This is now in the appropriate format to be processed by Spark.\n",
    "final_data = output.select(\"features\",'G3')\n",
    "final_data.show()"
   ]
  },
  {
   "cell_type": "code",
   "execution_count": 42,
   "metadata": {},
   "outputs": [],
   "source": [
    "# Let's do a randomised 70/30 split. \n",
    "# Remember, you can use other splits depending on how easy/difficult it is to train your model.\n",
    "train_data,test_data = final_data.randomSplit([0.7,0.3])"
   ]
  },
  {
   "cell_type": "code",
   "execution_count": 43,
   "metadata": {},
   "outputs": [],
   "source": [
    "lr = LinearRegression(labelCol='G3')\n",
    "# Fit the model to the data.\n",
    "lrModel = lr.fit(train_data)"
   ]
  },
  {
   "cell_type": "code",
   "execution_count": 44,
   "metadata": {},
   "outputs": [
    {
     "name": "stdout",
     "output_type": "stream",
     "text": [
      "Coefficients: [1.047197100483586,0.10563839614009074,0.14474581810560885,-0.12949467933976505,0.013201032111217793,-0.04426447678952803,-0.03810291908835372,-0.021834147643845222,0.1158898188827638,0.023242698487330248,0.08836402450500312,0.06155328403769631,0.207645270821773,0.46593475986685473,0.03369972181417831] Intercept: -4.238934387418187\n"
     ]
    }
   ],
   "source": [
    "# Print the coefficients and intercept for linear regression.\n",
    "print(\"Coefficients: {} Intercept: {}\".format(lrModel.coefficients,lrModel.intercept))"
   ]
  },
  {
   "cell_type": "code",
   "execution_count": 45,
   "metadata": {},
   "outputs": [],
   "source": [
    "# Let's evaluate the model against the test data.\n",
    "test_results = lrModel.transform(test_data)"
   ]
  },
  {
   "cell_type": "code",
   "execution_count": 46,
   "metadata": {},
   "outputs": [],
   "source": [
    "# Interesting results! This shows the difference between the predicted value and the test data.\n",
    "# test_results.residuals.show()\n",
    "\n",
    "# Let's get some evaluation metrics (as discussed in the previous linear regression notebook).\n",
    "# print(\"RSME: {}\".format(test_results.rootMeanSquaredError))"
   ]
  },
  {
   "cell_type": "code",
   "execution_count": 47,
   "metadata": {},
   "outputs": [],
   "source": [
    "# We can also get the R2 value. \n",
    "# print(\"R2: {}\".format(test_results.r2))"
   ]
  },
  {
   "cell_type": "code",
   "execution_count": 48,
   "metadata": {},
   "outputs": [
    {
     "name": "stdout",
     "output_type": "stream",
     "text": [
      "+--------------------+---+-------------------+\n",
      "|            features| G3|         prediction|\n",
      "+--------------------+---+-------------------+\n",
      "|(15,[0,1,2,3,4,6,...|  0|  6.000612815964084|\n",
      "|(15,[0,1,2,3,4,6,...| 14| 11.985998873010061|\n",
      "|(15,[0,1,2,3,4,6,...| 14|  12.75995997892544|\n",
      "|(15,[0,1,2,3,4,6,...|  5|  4.375713597091584|\n",
      "|(15,[0,1,2,3,5,6,...|  6| 3.9516463781953366|\n",
      "|(15,[0,1,2,3,5,6,...|  5|  2.947275969088265|\n",
      "|(15,[0,1,2,3,5,6,...|  0|  3.842327773266165|\n",
      "|(15,[0,1,2,3,5,6,...|  0|  7.929223887215809|\n",
      "|(15,[0,1,2,3,6,7,...| 11|  9.929533777922025|\n",
      "|(15,[0,1,2,3,6,7,...|  8|  7.556467714601405|\n",
      "|(15,[0,1,2,3,6,8,...|  7|  8.162022317671493|\n",
      "|(15,[0,1,2,3,6,8,...| 11|  10.09549072941284|\n",
      "|(15,[0,1,2,3,6,8,...|  8|  7.700234544135419|\n",
      "|(15,[0,1,2,3,6,8,...| 10|  9.004396636505579|\n",
      "|(15,[0,1,2,3,6,11...|  9|   8.90453676174984|\n",
      "|(15,[0,1,2,3,6,13...|  0|  2.069561274110457|\n",
      "|(15,[0,1,3,5,6,11...|  9|  6.104792566011566|\n",
      "|(15,[1,2,3,5,6,8,...|  0|-1.0446158617636696|\n",
      "|(15,[1,2,3,5,6,9,...|  0| -1.241013573938993|\n",
      "|(15,[1,2,3,5,6,9,...|  0| -1.303363694391841|\n",
      "|(15,[1,2,3,5,6,13...|  0|-1.6414689127316082|\n",
      "|(15,[1,2,3,6,8,10...|  0|-1.5501194694304625|\n",
      "|(15,[1,2,3,6,12,1...|  0|-1.7373459953594543|\n",
      "|[0.0,5.0,3.0,2.0,...|  0|-1.5553037210349272|\n",
      "|[0.0,6.0,4.0,3.0,...|  0|-1.0178737610952209|\n",
      "|[5.0,6.0,3.0,3.0,...|  6| 3.8863728504986934|\n",
      "|[6.0,7.0,3.0,2.0,...|  6|  5.410698590063001|\n",
      "|[7.0,7.0,4.0,3.0,...|  7|  6.011937795989233|\n",
      "|[7.0,7.0,4.0,4.0,...|  7| 5.8443824298958145|\n",
      "|[7.0,8.0,1.0,1.0,...|  8|  6.883731128608112|\n",
      "+--------------------+---+-------------------+\n",
      "only showing top 30 rows\n",
      "\n"
     ]
    }
   ],
   "source": [
    "test_results.show(30)"
   ]
  },
  {
   "cell_type": "code",
   "execution_count": 49,
   "metadata": {},
   "outputs": [
    {
     "name": "stdout",
     "output_type": "stream",
     "text": [
      "+-------+------------------+\n",
      "|summary|                G3|\n",
      "+-------+------------------+\n",
      "|  count|               384|\n",
      "|   mean|10.380208333333334|\n",
      "| stddev| 4.602329295414341|\n",
      "|    min|                 0|\n",
      "|    max|                20|\n",
      "+-------+------------------+\n",
      "\n"
     ]
    }
   ],
   "source": [
    "final_data.describe().show()"
   ]
  },
  {
   "cell_type": "code",
   "execution_count": 50,
   "metadata": {},
   "outputs": [
    {
     "data": {
      "text/plain": [
       "1.7164656080868015"
      ]
     },
     "execution_count": 50,
     "metadata": {},
     "output_type": "execute_result"
    }
   ],
   "source": [
    "from pyspark.ml.evaluation import RegressionEvaluator\n",
    "evaluator = RegressionEvaluator(\n",
    "    labelCol=\"G3\", predictionCol=\"prediction\", metricName=\"rmse\")\n",
    "rmse = evaluator.evaluate(test_results)\n",
    "rmse"
   ]
  },
  {
   "cell_type": "code",
   "execution_count": 51,
   "metadata": {},
   "outputs": [
    {
     "name": "stdout",
     "output_type": "stream",
     "text": [
      "r2 on test data = 0.860741\n"
     ]
    }
   ],
   "source": [
    "evaluator = RegressionEvaluator(\n",
    "    labelCol=\"G3\", predictionCol=\"prediction\", metricName=\"r2\")\n",
    "r2 = evaluator.evaluate(test_results)\n",
    "print(\"r2 on test data = %g\" % r2)"
   ]
  },
  {
   "cell_type": "code",
   "execution_count": 52,
   "metadata": {},
   "outputs": [
    {
     "data": {
      "image/png": "[encoded data removed]",
      "text/plain": [
       "<Figure size 432x288 with 1 Axes>"
      ]
     },
     "metadata": {
      "needs_background": "light"
     },
     "output_type": "display_data"
    }
   ],
   "source": [
    "diagram_fifteen = sns.regplot(x = test_results.select('G3').toPandas(), y = test_results.select('prediction').toPandas())\n",
    "diagram_fifteen.set_xlabel(\"y_test\", fontsize = 10)\n",
    "diagram_fifteen.set_ylabel('prediction', fontsize = 10)\n",
    "diagram_fifteen.axes.set_title(\"y_test vs prediction\", fontsize = 15)\n",
    "plt.show()"
   ]
  },
  {
   "cell_type": "code",
   "execution_count": 53,
   "metadata": {},
   "outputs": [
    {
     "data": {
      "image/png": "[encoded data removed]",
      "text/plain": [
       "<Figure size 432x288 with 1 Axes>"
      ]
     },
     "metadata": {
      "needs_background": "light"
     },
     "output_type": "display_data"
    }
   ],
   "source": [
    "import warnings\n",
    "warnings.filterwarnings('ignore')\n",
    "diagram_twenty = sns.distplot(test_results.select('G3').toPandas()['G3'] - test_results.select('prediction').toPandas()['prediction'])\n",
    "diagram_twenty.set_xlabel(\"errors\", fontsize = 10)\n",
    "diagram_twenty.set_ylabel(\"density\", fontsize = 10)\n",
    "plt.show()"
   ]
  },
  {
   "cell_type": "code",
   "execution_count": null,
   "metadata": {},
   "outputs": [],
   "source": []
  },
  {
   "cell_type": "code",
   "execution_count": null,
   "metadata": {},
   "outputs": [],
   "source": []
  },
  {
   "cell_type": "code",
   "execution_count": 54,
   "metadata": {},
   "outputs": [],
   "source": [
    "from pyspark.ml import Pipeline\n",
    "from pyspark.ml.regression import RandomForestRegressor\n",
    "from pyspark.ml.feature import VectorIndexer\n",
    "from pyspark.ml.evaluation import RegressionEvaluator"
   ]
  },
  {
   "cell_type": "code",
   "execution_count": 55,
   "metadata": {},
   "outputs": [],
   "source": [
    "# Let's do a randomised 70/30 split. \n",
    "# Remember, you can use other splits depending on how easy/difficult it is to train your model.\n",
    "train_data,test_data = final_data.randomSplit([0.7,0.3])"
   ]
  },
  {
   "cell_type": "code",
   "execution_count": 56,
   "metadata": {},
   "outputs": [],
   "source": [
    "rf = RandomForestRegressor(labelCol=\"G3\", predictionCol=\"prediction\")"
   ]
  },
  {
   "cell_type": "code",
   "execution_count": 57,
   "metadata": {},
   "outputs": [],
   "source": [
    "rf_model = rf.fit(train_data)"
   ]
  },
  {
   "cell_type": "code",
   "execution_count": 58,
   "metadata": {},
   "outputs": [
    {
     "data": {
      "text/plain": [
       "DataFrame[features: vector, G3: bigint, prediction: double]"
      ]
     },
     "execution_count": 58,
     "metadata": {},
     "output_type": "execute_result"
    }
   ],
   "source": [
    "test_results = rf_model.transform(test_data)\n",
    "test_results"
   ]
  },
  {
   "cell_type": "code",
   "execution_count": 59,
   "metadata": {},
   "outputs": [],
   "source": [
    "evaluator = RegressionEvaluator(\n",
    "    labelCol=\"G3\", predictionCol=\"prediction\", metricName=\"rmse\")\n",
    "rmse = evaluator.evaluate(test_results)"
   ]
  },
  {
   "cell_type": "code",
   "execution_count": 60,
   "metadata": {},
   "outputs": [
    {
     "name": "stdout",
     "output_type": "stream",
     "text": [
      "Root Mean Squared Error (RMSE) on test data = 1.79849\n"
     ]
    }
   ],
   "source": [
    "print(\"Root Mean Squared Error (RMSE) on test data = %g\" % rmse)"
   ]
  },
  {
   "cell_type": "code",
   "execution_count": 61,
   "metadata": {},
   "outputs": [
    {
     "name": "stdout",
     "output_type": "stream",
     "text": [
      "Root Mean Squared Error (RMSE) on test data = 0.832812\n"
     ]
    }
   ],
   "source": [
    "evaluator = RegressionEvaluator(\n",
    "    labelCol=\"G3\", predictionCol=\"prediction\", metricName=\"r2\")\n",
    "r2 = evaluator.evaluate(test_results)\n",
    "print(\"Root Mean Squared Error (RMSE) on test data = %g\" % r2)"
   ]
  },
  {
   "cell_type": "code",
   "execution_count": null,
   "metadata": {},
   "outputs": [],
   "source": []
  },
  {
   "cell_type": "code",
   "execution_count": null,
   "metadata": {},
   "outputs": [],
   "source": []
  },
  {
   "cell_type": "code",
   "execution_count": 62,
   "metadata": {},
   "outputs": [],
   "source": [
    "# Gradient-boosted tree regression\n",
    "from pyspark.ml import Pipeline\n",
    "from pyspark.ml.regression import GBTRegressor\n",
    "from pyspark.ml.evaluation import RegressionEvaluator"
   ]
  },
  {
   "cell_type": "code",
   "execution_count": 63,
   "metadata": {},
   "outputs": [],
   "source": [
    "# Let's do a randomised 70/30 split. \n",
    "# Remember, you can use other splits depending on how easy/difficult it is to train your model.\n",
    "train_data,test_data = final_data.randomSplit([0.7,0.3])"
   ]
  },
  {
   "cell_type": "code",
   "execution_count": 64,
   "metadata": {},
   "outputs": [],
   "source": [
    "gbt = GBTRegressor(labelCol = 'G3', featuresCol = 'features', maxIter=10)"
   ]
  },
  {
   "cell_type": "code",
   "execution_count": null,
   "metadata": {},
   "outputs": [],
   "source": [
    "gbt_model = gbt.fit(train_data)"
   ]
  },
  {
   "cell_type": "code",
   "execution_count": null,
   "metadata": {},
   "outputs": [],
   "source": [
    "test_results = gbt_model.transform(test_data)"
   ]
  },
  {
   "cell_type": "code",
   "execution_count": null,
   "metadata": {},
   "outputs": [],
   "source": [
    "test_results"
   ]
  },
  {
   "cell_type": "code",
   "execution_count": null,
   "metadata": {},
   "outputs": [],
   "source": [
    "evaluator = RegressionEvaluator(\n",
    "    labelCol=\"G3\", predictionCol=\"prediction\", metricName=\"rmse\")\n",
    "rmse = evaluator.evaluate(test_results)"
   ]
  },
  {
   "cell_type": "code",
   "execution_count": null,
   "metadata": {},
   "outputs": [],
   "source": [
    "print(\"Root Mean Squared Error (RMSE) on test data = %g\" % rmse)"
   ]
  },
  {
   "cell_type": "code",
   "execution_count": null,
   "metadata": {},
   "outputs": [],
   "source": [
    "evaluator = RegressionEvaluator(\n",
    "    labelCol=\"G3\", predictionCol=\"prediction\", metricName=\"r2\")\n",
    "r2 = evaluator.evaluate(test_results)\n",
    "print(\"r2 on test data = %g\" % r2)"
   ]
  },
  {
   "cell_type": "code",
   "execution_count": null,
   "metadata": {},
   "outputs": [],
   "source": [
    "diagram_fifteen = sns.regplot(x = test_results.select('G3').toPandas(), y = test_results.select('prediction').toPandas())\n",
    "diagram_fifteen.set_xlabel(\"y_test\", fontsize = 10)\n",
    "diagram_fifteen.set_ylabel('prediction', fontsize = 10)\n",
    "diagram_fifteen.axes.set_title(\"y_test vs prediction\", fontsize = 15)\n",
    "plt.show()"
   ]
  },
  {
   "cell_type": "code",
   "execution_count": null,
   "metadata": {},
   "outputs": [],
   "source": [
    "import warnings\n",
    "warnings.filterwarnings('ignore')\n",
    "sns.distplot(test_results.select('G3').toPandas()['G3'] - test_results.select('prediction').toPandas()['prediction'])\n",
    "plt.x\n",
    "plt.show()"
   ]
  },
  {
   "cell_type": "code",
   "execution_count": null,
   "metadata": {},
   "outputs": [],
   "source": []
  },
  {
   "cell_type": "code",
   "execution_count": null,
   "metadata": {},
   "outputs": [],
   "source": []
  },
  {
   "cell_type": "code",
   "execution_count": null,
   "metadata": {},
   "outputs": [],
   "source": []
  },
  {
   "cell_type": "code",
   "execution_count": null,
   "metadata": {},
   "outputs": [],
   "source": []
  },
  {
   "cell_type": "code",
   "execution_count": null,
   "metadata": {},
   "outputs": [],
   "source": []
  },
  {
   "cell_type": "code",
   "execution_count": null,
   "metadata": {},
   "outputs": [],
   "source": []
  },
  {
   "cell_type": "code",
   "execution_count": null,
   "metadata": {},
   "outputs": [],
   "source": []
  },
  {
   "cell_type": "code",
   "execution_count": null,
   "metadata": {},
   "outputs": [],
   "source": []
  }
 ],
 "metadata": {
  "kernelspec": {
   "display_name": "Python 3",
   "language": "python",
   "name": "python3"
  },
  "language_info": {
   "codemirror_mode": {
    "name": "ipython",
    "version": 3
   },
   "file_extension": ".py",
   "mimetype": "text/x-python",
   "name": "python",
   "nbconvert_exporter": "python",
   "pygments_lexer": "ipython3",
   "version": "3.6.9"
  }
 },
 "nbformat": 4,
 "nbformat_minor": 2
}
